{
 "cells": [
  {
   "cell_type": "markdown",
   "id": "f392fa5e",
   "metadata": {
    "papermill": {
     "duration": 0.020792,
     "end_time": "2024-08-03T04:03:55.648132",
     "exception": false,
     "start_time": "2024-08-03T04:03:55.627340",
     "status": "completed"
    },
    "tags": []
   },
   "source": [
    "# Importing Libaries"
   ]
  },
  {
   "cell_type": "code",
   "execution_count": 1,
   "id": "c4ed0907",
   "metadata": {
    "execution": {
     "iopub.execute_input": "2024-08-03T04:03:55.689824Z",
     "iopub.status.busy": "2024-08-03T04:03:55.689344Z",
     "iopub.status.idle": "2024-08-03T04:03:58.453796Z",
     "shell.execute_reply": "2024-08-03T04:03:58.452764Z"
    },
    "papermill": {
     "duration": 2.788488,
     "end_time": "2024-08-03T04:03:58.456663",
     "exception": false,
     "start_time": "2024-08-03T04:03:55.668175",
     "status": "completed"
    },
    "tags": []
   },
   "outputs": [],
   "source": [
    "import numpy as np \n",
    "import pandas as pd \n",
    "import matplotlib.pyplot as plt \n",
    "import seaborn as sns "
   ]
  },
  {
   "cell_type": "markdown",
   "id": "1cb80c9b",
   "metadata": {
    "papermill": {
     "duration": 0.018116,
     "end_time": "2024-08-03T04:03:58.495327",
     "exception": false,
     "start_time": "2024-08-03T04:03:58.477211",
     "status": "completed"
    },
    "tags": []
   },
   "source": [
    "# Load Dataset & Explore Data"
   ]
  },
  {
   "cell_type": "markdown",
   "id": "bb271e0c",
   "metadata": {
    "papermill": {
     "duration": 0.020436,
     "end_time": "2024-08-03T04:03:58.534736",
     "exception": false,
     "start_time": "2024-08-03T04:03:58.514300",
     "status": "completed"
    },
    "tags": []
   },
   "source": [
    "- lets load the dataset using seaborn libarie"
   ]
  },
  {
   "cell_type": "code",
   "execution_count": 2,
   "id": "36650793",
   "metadata": {
    "execution": {
     "iopub.execute_input": "2024-08-03T04:03:58.574702Z",
     "iopub.status.busy": "2024-08-03T04:03:58.574051Z",
     "iopub.status.idle": "2024-08-03T04:03:59.139735Z",
     "shell.execute_reply": "2024-08-03T04:03:59.138274Z"
    },
    "papermill": {
     "duration": 0.58934,
     "end_time": "2024-08-03T04:03:59.142720",
     "exception": false,
     "start_time": "2024-08-03T04:03:58.553380",
     "status": "completed"
    },
    "tags": []
   },
   "outputs": [],
   "source": [
    "df=sns.load_dataset(\"titanic\")"
   ]
  },
  {
   "cell_type": "markdown",
   "id": "916f2393",
   "metadata": {
    "papermill": {
     "duration": 0.018427,
     "end_time": "2024-08-03T04:03:59.179675",
     "exception": false,
     "start_time": "2024-08-03T04:03:59.161248",
     "status": "completed"
    },
    "tags": []
   },
   "source": [
    "- Look at the top 5 record of data \n",
    "-  Look at the bottom 5 record of data "
   ]
  },
  {
   "cell_type": "code",
   "execution_count": 3,
   "id": "c57c8387",
   "metadata": {
    "execution": {
     "iopub.execute_input": "2024-08-03T04:03:59.219258Z",
     "iopub.status.busy": "2024-08-03T04:03:59.218833Z",
     "iopub.status.idle": "2024-08-03T04:03:59.251608Z",
     "shell.execute_reply": "2024-08-03T04:03:59.250312Z"
    },
    "papermill": {
     "duration": 0.056234,
     "end_time": "2024-08-03T04:03:59.254538",
     "exception": false,
     "start_time": "2024-08-03T04:03:59.198304",
     "status": "completed"
    },
    "tags": []
   },
   "outputs": [
    {
     "data": {
      "text/html": [
       "<div>\n",
       "<style scoped>\n",
       "    .dataframe tbody tr th:only-of-type {\n",
       "        vertical-align: middle;\n",
       "    }\n",
       "\n",
       "    .dataframe tbody tr th {\n",
       "        vertical-align: top;\n",
       "    }\n",
       "\n",
       "    .dataframe thead th {\n",
       "        text-align: right;\n",
       "    }\n",
       "</style>\n",
       "<table border=\"1\" class=\"dataframe\">\n",
       "  <thead>\n",
       "    <tr style=\"text-align: right;\">\n",
       "      <th></th>\n",
       "      <th>survived</th>\n",
       "      <th>pclass</th>\n",
       "      <th>sex</th>\n",
       "      <th>age</th>\n",
       "      <th>sibsp</th>\n",
       "      <th>parch</th>\n",
       "      <th>fare</th>\n",
       "      <th>embarked</th>\n",
       "      <th>class</th>\n",
       "      <th>who</th>\n",
       "      <th>adult_male</th>\n",
       "      <th>deck</th>\n",
       "      <th>embark_town</th>\n",
       "      <th>alive</th>\n",
       "      <th>alone</th>\n",
       "    </tr>\n",
       "  </thead>\n",
       "  <tbody>\n",
       "    <tr>\n",
       "      <th>0</th>\n",
       "      <td>0</td>\n",
       "      <td>3</td>\n",
       "      <td>male</td>\n",
       "      <td>22.0</td>\n",
       "      <td>1</td>\n",
       "      <td>0</td>\n",
       "      <td>7.2500</td>\n",
       "      <td>S</td>\n",
       "      <td>Third</td>\n",
       "      <td>man</td>\n",
       "      <td>True</td>\n",
       "      <td>NaN</td>\n",
       "      <td>Southampton</td>\n",
       "      <td>no</td>\n",
       "      <td>False</td>\n",
       "    </tr>\n",
       "    <tr>\n",
       "      <th>1</th>\n",
       "      <td>1</td>\n",
       "      <td>1</td>\n",
       "      <td>female</td>\n",
       "      <td>38.0</td>\n",
       "      <td>1</td>\n",
       "      <td>0</td>\n",
       "      <td>71.2833</td>\n",
       "      <td>C</td>\n",
       "      <td>First</td>\n",
       "      <td>woman</td>\n",
       "      <td>False</td>\n",
       "      <td>C</td>\n",
       "      <td>Cherbourg</td>\n",
       "      <td>yes</td>\n",
       "      <td>False</td>\n",
       "    </tr>\n",
       "    <tr>\n",
       "      <th>2</th>\n",
       "      <td>1</td>\n",
       "      <td>3</td>\n",
       "      <td>female</td>\n",
       "      <td>26.0</td>\n",
       "      <td>0</td>\n",
       "      <td>0</td>\n",
       "      <td>7.9250</td>\n",
       "      <td>S</td>\n",
       "      <td>Third</td>\n",
       "      <td>woman</td>\n",
       "      <td>False</td>\n",
       "      <td>NaN</td>\n",
       "      <td>Southampton</td>\n",
       "      <td>yes</td>\n",
       "      <td>True</td>\n",
       "    </tr>\n",
       "    <tr>\n",
       "      <th>3</th>\n",
       "      <td>1</td>\n",
       "      <td>1</td>\n",
       "      <td>female</td>\n",
       "      <td>35.0</td>\n",
       "      <td>1</td>\n",
       "      <td>0</td>\n",
       "      <td>53.1000</td>\n",
       "      <td>S</td>\n",
       "      <td>First</td>\n",
       "      <td>woman</td>\n",
       "      <td>False</td>\n",
       "      <td>C</td>\n",
       "      <td>Southampton</td>\n",
       "      <td>yes</td>\n",
       "      <td>False</td>\n",
       "    </tr>\n",
       "    <tr>\n",
       "      <th>4</th>\n",
       "      <td>0</td>\n",
       "      <td>3</td>\n",
       "      <td>male</td>\n",
       "      <td>35.0</td>\n",
       "      <td>0</td>\n",
       "      <td>0</td>\n",
       "      <td>8.0500</td>\n",
       "      <td>S</td>\n",
       "      <td>Third</td>\n",
       "      <td>man</td>\n",
       "      <td>True</td>\n",
       "      <td>NaN</td>\n",
       "      <td>Southampton</td>\n",
       "      <td>no</td>\n",
       "      <td>True</td>\n",
       "    </tr>\n",
       "  </tbody>\n",
       "</table>\n",
       "</div>"
      ],
      "text/plain": [
       "   survived  pclass     sex   age  sibsp  parch     fare embarked  class  \\\n",
       "0         0       3    male  22.0      1      0   7.2500        S  Third   \n",
       "1         1       1  female  38.0      1      0  71.2833        C  First   \n",
       "2         1       3  female  26.0      0      0   7.9250        S  Third   \n",
       "3         1       1  female  35.0      1      0  53.1000        S  First   \n",
       "4         0       3    male  35.0      0      0   8.0500        S  Third   \n",
       "\n",
       "     who  adult_male deck  embark_town alive  alone  \n",
       "0    man        True  NaN  Southampton    no  False  \n",
       "1  woman       False    C    Cherbourg   yes  False  \n",
       "2  woman       False  NaN  Southampton   yes   True  \n",
       "3  woman       False    C  Southampton   yes  False  \n",
       "4    man        True  NaN  Southampton    no   True  "
      ]
     },
     "execution_count": 3,
     "metadata": {},
     "output_type": "execute_result"
    }
   ],
   "source": [
    "df.head()"
   ]
  },
  {
   "cell_type": "code",
   "execution_count": 4,
   "id": "81f68f96",
   "metadata": {
    "execution": {
     "iopub.execute_input": "2024-08-03T04:03:59.294303Z",
     "iopub.status.busy": "2024-08-03T04:03:59.293901Z",
     "iopub.status.idle": "2024-08-03T04:03:59.315837Z",
     "shell.execute_reply": "2024-08-03T04:03:59.314670Z"
    },
    "papermill": {
     "duration": 0.044924,
     "end_time": "2024-08-03T04:03:59.318514",
     "exception": false,
     "start_time": "2024-08-03T04:03:59.273590",
     "status": "completed"
    },
    "tags": []
   },
   "outputs": [
    {
     "data": {
      "text/html": [
       "<div>\n",
       "<style scoped>\n",
       "    .dataframe tbody tr th:only-of-type {\n",
       "        vertical-align: middle;\n",
       "    }\n",
       "\n",
       "    .dataframe tbody tr th {\n",
       "        vertical-align: top;\n",
       "    }\n",
       "\n",
       "    .dataframe thead th {\n",
       "        text-align: right;\n",
       "    }\n",
       "</style>\n",
       "<table border=\"1\" class=\"dataframe\">\n",
       "  <thead>\n",
       "    <tr style=\"text-align: right;\">\n",
       "      <th></th>\n",
       "      <th>survived</th>\n",
       "      <th>pclass</th>\n",
       "      <th>sex</th>\n",
       "      <th>age</th>\n",
       "      <th>sibsp</th>\n",
       "      <th>parch</th>\n",
       "      <th>fare</th>\n",
       "      <th>embarked</th>\n",
       "      <th>class</th>\n",
       "      <th>who</th>\n",
       "      <th>adult_male</th>\n",
       "      <th>deck</th>\n",
       "      <th>embark_town</th>\n",
       "      <th>alive</th>\n",
       "      <th>alone</th>\n",
       "    </tr>\n",
       "  </thead>\n",
       "  <tbody>\n",
       "    <tr>\n",
       "      <th>886</th>\n",
       "      <td>0</td>\n",
       "      <td>2</td>\n",
       "      <td>male</td>\n",
       "      <td>27.0</td>\n",
       "      <td>0</td>\n",
       "      <td>0</td>\n",
       "      <td>13.00</td>\n",
       "      <td>S</td>\n",
       "      <td>Second</td>\n",
       "      <td>man</td>\n",
       "      <td>True</td>\n",
       "      <td>NaN</td>\n",
       "      <td>Southampton</td>\n",
       "      <td>no</td>\n",
       "      <td>True</td>\n",
       "    </tr>\n",
       "    <tr>\n",
       "      <th>887</th>\n",
       "      <td>1</td>\n",
       "      <td>1</td>\n",
       "      <td>female</td>\n",
       "      <td>19.0</td>\n",
       "      <td>0</td>\n",
       "      <td>0</td>\n",
       "      <td>30.00</td>\n",
       "      <td>S</td>\n",
       "      <td>First</td>\n",
       "      <td>woman</td>\n",
       "      <td>False</td>\n",
       "      <td>B</td>\n",
       "      <td>Southampton</td>\n",
       "      <td>yes</td>\n",
       "      <td>True</td>\n",
       "    </tr>\n",
       "    <tr>\n",
       "      <th>888</th>\n",
       "      <td>0</td>\n",
       "      <td>3</td>\n",
       "      <td>female</td>\n",
       "      <td>NaN</td>\n",
       "      <td>1</td>\n",
       "      <td>2</td>\n",
       "      <td>23.45</td>\n",
       "      <td>S</td>\n",
       "      <td>Third</td>\n",
       "      <td>woman</td>\n",
       "      <td>False</td>\n",
       "      <td>NaN</td>\n",
       "      <td>Southampton</td>\n",
       "      <td>no</td>\n",
       "      <td>False</td>\n",
       "    </tr>\n",
       "    <tr>\n",
       "      <th>889</th>\n",
       "      <td>1</td>\n",
       "      <td>1</td>\n",
       "      <td>male</td>\n",
       "      <td>26.0</td>\n",
       "      <td>0</td>\n",
       "      <td>0</td>\n",
       "      <td>30.00</td>\n",
       "      <td>C</td>\n",
       "      <td>First</td>\n",
       "      <td>man</td>\n",
       "      <td>True</td>\n",
       "      <td>C</td>\n",
       "      <td>Cherbourg</td>\n",
       "      <td>yes</td>\n",
       "      <td>True</td>\n",
       "    </tr>\n",
       "    <tr>\n",
       "      <th>890</th>\n",
       "      <td>0</td>\n",
       "      <td>3</td>\n",
       "      <td>male</td>\n",
       "      <td>32.0</td>\n",
       "      <td>0</td>\n",
       "      <td>0</td>\n",
       "      <td>7.75</td>\n",
       "      <td>Q</td>\n",
       "      <td>Third</td>\n",
       "      <td>man</td>\n",
       "      <td>True</td>\n",
       "      <td>NaN</td>\n",
       "      <td>Queenstown</td>\n",
       "      <td>no</td>\n",
       "      <td>True</td>\n",
       "    </tr>\n",
       "  </tbody>\n",
       "</table>\n",
       "</div>"
      ],
      "text/plain": [
       "     survived  pclass     sex   age  sibsp  parch   fare embarked   class  \\\n",
       "886         0       2    male  27.0      0      0  13.00        S  Second   \n",
       "887         1       1  female  19.0      0      0  30.00        S   First   \n",
       "888         0       3  female   NaN      1      2  23.45        S   Third   \n",
       "889         1       1    male  26.0      0      0  30.00        C   First   \n",
       "890         0       3    male  32.0      0      0   7.75        Q   Third   \n",
       "\n",
       "       who  adult_male deck  embark_town alive  alone  \n",
       "886    man        True  NaN  Southampton    no   True  \n",
       "887  woman       False    B  Southampton   yes   True  \n",
       "888  woman       False  NaN  Southampton    no  False  \n",
       "889    man        True    C    Cherbourg   yes   True  \n",
       "890    man        True  NaN   Queenstown    no   True  "
      ]
     },
     "execution_count": 4,
     "metadata": {},
     "output_type": "execute_result"
    }
   ],
   "source": [
    "df.tail()"
   ]
  },
  {
   "cell_type": "markdown",
   "id": "de1fe828",
   "metadata": {
    "papermill": {
     "duration": 0.019391,
     "end_time": "2024-08-03T04:03:59.357871",
     "exception": false,
     "start_time": "2024-08-03T04:03:59.338480",
     "status": "completed"
    },
    "tags": []
   },
   "source": [
    "Lets check dataset Dimension\n",
    "- total rows `891`\n",
    "- total columns `15`"
   ]
  },
  {
   "cell_type": "code",
   "execution_count": 5,
   "id": "8154c37f",
   "metadata": {
    "execution": {
     "iopub.execute_input": "2024-08-03T04:03:59.398981Z",
     "iopub.status.busy": "2024-08-03T04:03:59.398555Z",
     "iopub.status.idle": "2024-08-03T04:03:59.405497Z",
     "shell.execute_reply": "2024-08-03T04:03:59.404071Z"
    },
    "papermill": {
     "duration": 0.030836,
     "end_time": "2024-08-03T04:03:59.408158",
     "exception": false,
     "start_time": "2024-08-03T04:03:59.377322",
     "status": "completed"
    },
    "tags": []
   },
   "outputs": [
    {
     "name": "stdout",
     "output_type": "stream",
     "text": [
      "The Total Number of rows :891\n",
      "The Total Number of columns :15\n"
     ]
    }
   ],
   "source": [
    "df.shape\n",
    "print(f'The Total Number of rows :{df.shape[0]}')\n",
    "print(f'The Total Number of columns :{df.shape[1]}')"
   ]
  },
  {
   "cell_type": "markdown",
   "id": "7ffb9b04",
   "metadata": {
    "papermill": {
     "duration": 0.019004,
     "end_time": "2024-08-03T04:03:59.446665",
     "exception": false,
     "start_time": "2024-08-03T04:03:59.427661",
     "status": "completed"
    },
    "tags": []
   },
   "source": [
    "you can see all columns name"
   ]
  },
  {
   "cell_type": "code",
   "execution_count": 6,
   "id": "77107609",
   "metadata": {
    "execution": {
     "iopub.execute_input": "2024-08-03T04:03:59.488834Z",
     "iopub.status.busy": "2024-08-03T04:03:59.488396Z",
     "iopub.status.idle": "2024-08-03T04:03:59.496858Z",
     "shell.execute_reply": "2024-08-03T04:03:59.495447Z"
    },
    "papermill": {
     "duration": 0.033613,
     "end_time": "2024-08-03T04:03:59.499535",
     "exception": false,
     "start_time": "2024-08-03T04:03:59.465922",
     "status": "completed"
    },
    "tags": []
   },
   "outputs": [
    {
     "data": {
      "text/plain": [
       "Index(['survived', 'pclass', 'sex', 'age', 'sibsp', 'parch', 'fare',\n",
       "       'embarked', 'class', 'who', 'adult_male', 'deck', 'embark_town',\n",
       "       'alive', 'alone'],\n",
       "      dtype='object')"
      ]
     },
     "execution_count": 6,
     "metadata": {},
     "output_type": "execute_result"
    }
   ],
   "source": [
    "df.columns"
   ]
  },
  {
   "cell_type": "markdown",
   "id": "b23b8455",
   "metadata": {
    "papermill": {
     "duration": 0.021154,
     "end_time": "2024-08-03T04:03:59.541000",
     "exception": false,
     "start_time": "2024-08-03T04:03:59.519846",
     "status": "completed"
    },
    "tags": []
   },
   "source": [
    "General information DataFrame using `df.info`\n",
    " -   let check dtype and Range Index,columns,Non Null\n",
    " -   Non-Null-->not null values "
   ]
  },
  {
   "cell_type": "code",
   "execution_count": 7,
   "id": "9396f5b1",
   "metadata": {
    "execution": {
     "iopub.execute_input": "2024-08-03T04:03:59.583940Z",
     "iopub.status.busy": "2024-08-03T04:03:59.583547Z",
     "iopub.status.idle": "2024-08-03T04:03:59.611061Z",
     "shell.execute_reply": "2024-08-03T04:03:59.609120Z"
    },
    "papermill": {
     "duration": 0.052551,
     "end_time": "2024-08-03T04:03:59.614476",
     "exception": false,
     "start_time": "2024-08-03T04:03:59.561925",
     "status": "completed"
    },
    "tags": []
   },
   "outputs": [
    {
     "name": "stdout",
     "output_type": "stream",
     "text": [
      "<class 'pandas.core.frame.DataFrame'>\n",
      "RangeIndex: 891 entries, 0 to 890\n",
      "Data columns (total 15 columns):\n",
      " #   Column       Non-Null Count  Dtype   \n",
      "---  ------       --------------  -----   \n",
      " 0   survived     891 non-null    int64   \n",
      " 1   pclass       891 non-null    int64   \n",
      " 2   sex          891 non-null    object  \n",
      " 3   age          714 non-null    float64 \n",
      " 4   sibsp        891 non-null    int64   \n",
      " 5   parch        891 non-null    int64   \n",
      " 6   fare         891 non-null    float64 \n",
      " 7   embarked     889 non-null    object  \n",
      " 8   class        891 non-null    category\n",
      " 9   who          891 non-null    object  \n",
      " 10  adult_male   891 non-null    bool    \n",
      " 11  deck         203 non-null    category\n",
      " 12  embark_town  889 non-null    object  \n",
      " 13  alive        891 non-null    object  \n",
      " 14  alone        891 non-null    bool    \n",
      "dtypes: bool(2), category(2), float64(2), int64(4), object(5)\n",
      "memory usage: 80.7+ KB\n"
     ]
    }
   ],
   "source": [
    "df.info()"
   ]
  },
  {
   "cell_type": "markdown",
   "id": "ba0960b2",
   "metadata": {
    "papermill": {
     "duration": 0.01952,
     "end_time": "2024-08-03T04:03:59.655335",
     "exception": false,
     "start_time": "2024-08-03T04:03:59.635815",
     "status": "completed"
    },
    "tags": []
   },
   "source": [
    "statistic summary"
   ]
  },
  {
   "cell_type": "code",
   "execution_count": 8,
   "id": "49c0eb4f",
   "metadata": {
    "execution": {
     "iopub.execute_input": "2024-08-03T04:03:59.698907Z",
     "iopub.status.busy": "2024-08-03T04:03:59.698504Z",
     "iopub.status.idle": "2024-08-03T04:03:59.730141Z",
     "shell.execute_reply": "2024-08-03T04:03:59.728748Z"
    },
    "papermill": {
     "duration": 0.058011,
     "end_time": "2024-08-03T04:03:59.733138",
     "exception": false,
     "start_time": "2024-08-03T04:03:59.675127",
     "status": "completed"
    },
    "tags": []
   },
   "outputs": [
    {
     "data": {
      "text/html": [
       "<div>\n",
       "<style scoped>\n",
       "    .dataframe tbody tr th:only-of-type {\n",
       "        vertical-align: middle;\n",
       "    }\n",
       "\n",
       "    .dataframe tbody tr th {\n",
       "        vertical-align: top;\n",
       "    }\n",
       "\n",
       "    .dataframe thead th {\n",
       "        text-align: right;\n",
       "    }\n",
       "</style>\n",
       "<table border=\"1\" class=\"dataframe\">\n",
       "  <thead>\n",
       "    <tr style=\"text-align: right;\">\n",
       "      <th></th>\n",
       "      <th>survived</th>\n",
       "      <th>pclass</th>\n",
       "      <th>age</th>\n",
       "      <th>sibsp</th>\n",
       "      <th>parch</th>\n",
       "      <th>fare</th>\n",
       "    </tr>\n",
       "  </thead>\n",
       "  <tbody>\n",
       "    <tr>\n",
       "      <th>count</th>\n",
       "      <td>891.000000</td>\n",
       "      <td>891.000000</td>\n",
       "      <td>714.000000</td>\n",
       "      <td>891.000000</td>\n",
       "      <td>891.000000</td>\n",
       "      <td>891.000000</td>\n",
       "    </tr>\n",
       "    <tr>\n",
       "      <th>mean</th>\n",
       "      <td>0.383838</td>\n",
       "      <td>2.308642</td>\n",
       "      <td>29.699118</td>\n",
       "      <td>0.523008</td>\n",
       "      <td>0.381594</td>\n",
       "      <td>32.204208</td>\n",
       "    </tr>\n",
       "    <tr>\n",
       "      <th>std</th>\n",
       "      <td>0.486592</td>\n",
       "      <td>0.836071</td>\n",
       "      <td>14.526497</td>\n",
       "      <td>1.102743</td>\n",
       "      <td>0.806057</td>\n",
       "      <td>49.693429</td>\n",
       "    </tr>\n",
       "    <tr>\n",
       "      <th>min</th>\n",
       "      <td>0.000000</td>\n",
       "      <td>1.000000</td>\n",
       "      <td>0.420000</td>\n",
       "      <td>0.000000</td>\n",
       "      <td>0.000000</td>\n",
       "      <td>0.000000</td>\n",
       "    </tr>\n",
       "    <tr>\n",
       "      <th>25%</th>\n",
       "      <td>0.000000</td>\n",
       "      <td>2.000000</td>\n",
       "      <td>20.125000</td>\n",
       "      <td>0.000000</td>\n",
       "      <td>0.000000</td>\n",
       "      <td>7.910400</td>\n",
       "    </tr>\n",
       "    <tr>\n",
       "      <th>50%</th>\n",
       "      <td>0.000000</td>\n",
       "      <td>3.000000</td>\n",
       "      <td>28.000000</td>\n",
       "      <td>0.000000</td>\n",
       "      <td>0.000000</td>\n",
       "      <td>14.454200</td>\n",
       "    </tr>\n",
       "    <tr>\n",
       "      <th>75%</th>\n",
       "      <td>1.000000</td>\n",
       "      <td>3.000000</td>\n",
       "      <td>38.000000</td>\n",
       "      <td>1.000000</td>\n",
       "      <td>0.000000</td>\n",
       "      <td>31.000000</td>\n",
       "    </tr>\n",
       "    <tr>\n",
       "      <th>max</th>\n",
       "      <td>1.000000</td>\n",
       "      <td>3.000000</td>\n",
       "      <td>80.000000</td>\n",
       "      <td>8.000000</td>\n",
       "      <td>6.000000</td>\n",
       "      <td>512.329200</td>\n",
       "    </tr>\n",
       "  </tbody>\n",
       "</table>\n",
       "</div>"
      ],
      "text/plain": [
       "         survived      pclass         age       sibsp       parch        fare\n",
       "count  891.000000  891.000000  714.000000  891.000000  891.000000  891.000000\n",
       "mean     0.383838    2.308642   29.699118    0.523008    0.381594   32.204208\n",
       "std      0.486592    0.836071   14.526497    1.102743    0.806057   49.693429\n",
       "min      0.000000    1.000000    0.420000    0.000000    0.000000    0.000000\n",
       "25%      0.000000    2.000000   20.125000    0.000000    0.000000    7.910400\n",
       "50%      0.000000    3.000000   28.000000    0.000000    0.000000   14.454200\n",
       "75%      1.000000    3.000000   38.000000    1.000000    0.000000   31.000000\n",
       "max      1.000000    3.000000   80.000000    8.000000    6.000000  512.329200"
      ]
     },
     "execution_count": 8,
     "metadata": {},
     "output_type": "execute_result"
    }
   ],
   "source": [
    "df.describe()"
   ]
  },
  {
   "cell_type": "code",
   "execution_count": 9,
   "id": "5291e8ed",
   "metadata": {
    "execution": {
     "iopub.execute_input": "2024-08-03T04:03:59.775654Z",
     "iopub.status.busy": "2024-08-03T04:03:59.775238Z",
     "iopub.status.idle": "2024-08-03T04:03:59.783201Z",
     "shell.execute_reply": "2024-08-03T04:03:59.781825Z"
    },
    "papermill": {
     "duration": 0.032276,
     "end_time": "2024-08-03T04:03:59.786073",
     "exception": false,
     "start_time": "2024-08-03T04:03:59.753797",
     "status": "completed"
    },
    "tags": []
   },
   "outputs": [
    {
     "data": {
      "text/plain": [
       "Index(['survived', 'pclass', 'sex', 'age', 'sibsp', 'parch', 'fare',\n",
       "       'embarked', 'class', 'who', 'adult_male', 'deck', 'embark_town',\n",
       "       'alive', 'alone'],\n",
       "      dtype='object')"
      ]
     },
     "execution_count": 9,
     "metadata": {},
     "output_type": "execute_result"
    }
   ],
   "source": [
    "df.columns"
   ]
  },
  {
   "cell_type": "code",
   "execution_count": 10,
   "id": "80cd9d54",
   "metadata": {
    "execution": {
     "iopub.execute_input": "2024-08-03T04:03:59.829600Z",
     "iopub.status.busy": "2024-08-03T04:03:59.829110Z",
     "iopub.status.idle": "2024-08-03T04:03:59.859690Z",
     "shell.execute_reply": "2024-08-03T04:03:59.858349Z"
    },
    "papermill": {
     "duration": 0.055801,
     "end_time": "2024-08-03T04:03:59.862476",
     "exception": false,
     "start_time": "2024-08-03T04:03:59.806675",
     "status": "completed"
    },
    "tags": []
   },
   "outputs": [
    {
     "data": {
      "text/html": [
       "<div>\n",
       "<style scoped>\n",
       "    .dataframe tbody tr th:only-of-type {\n",
       "        vertical-align: middle;\n",
       "    }\n",
       "\n",
       "    .dataframe tbody tr th {\n",
       "        vertical-align: top;\n",
       "    }\n",
       "\n",
       "    .dataframe thead th {\n",
       "        text-align: right;\n",
       "    }\n",
       "</style>\n",
       "<table border=\"1\" class=\"dataframe\">\n",
       "  <thead>\n",
       "    <tr style=\"text-align: right;\">\n",
       "      <th></th>\n",
       "      <th>survived</th>\n",
       "      <th>pclass</th>\n",
       "      <th>sex</th>\n",
       "      <th>age</th>\n",
       "      <th>sibsp</th>\n",
       "      <th>parch</th>\n",
       "      <th>fare</th>\n",
       "      <th>embarked</th>\n",
       "      <th>class</th>\n",
       "      <th>who</th>\n",
       "      <th>adult_male</th>\n",
       "      <th>deck</th>\n",
       "      <th>embark_town</th>\n",
       "      <th>alive</th>\n",
       "      <th>alone</th>\n",
       "    </tr>\n",
       "  </thead>\n",
       "  <tbody>\n",
       "    <tr>\n",
       "      <th>488</th>\n",
       "      <td>0</td>\n",
       "      <td>3</td>\n",
       "      <td>male</td>\n",
       "      <td>30.0</td>\n",
       "      <td>0</td>\n",
       "      <td>0</td>\n",
       "      <td>8.0500</td>\n",
       "      <td>S</td>\n",
       "      <td>Third</td>\n",
       "      <td>man</td>\n",
       "      <td>True</td>\n",
       "      <td>NaN</td>\n",
       "      <td>Southampton</td>\n",
       "      <td>no</td>\n",
       "      <td>True</td>\n",
       "    </tr>\n",
       "    <tr>\n",
       "      <th>319</th>\n",
       "      <td>1</td>\n",
       "      <td>1</td>\n",
       "      <td>female</td>\n",
       "      <td>40.0</td>\n",
       "      <td>1</td>\n",
       "      <td>1</td>\n",
       "      <td>134.5000</td>\n",
       "      <td>C</td>\n",
       "      <td>First</td>\n",
       "      <td>woman</td>\n",
       "      <td>False</td>\n",
       "      <td>E</td>\n",
       "      <td>Cherbourg</td>\n",
       "      <td>yes</td>\n",
       "      <td>False</td>\n",
       "    </tr>\n",
       "    <tr>\n",
       "      <th>424</th>\n",
       "      <td>0</td>\n",
       "      <td>3</td>\n",
       "      <td>male</td>\n",
       "      <td>18.0</td>\n",
       "      <td>1</td>\n",
       "      <td>1</td>\n",
       "      <td>20.2125</td>\n",
       "      <td>S</td>\n",
       "      <td>Third</td>\n",
       "      <td>man</td>\n",
       "      <td>True</td>\n",
       "      <td>NaN</td>\n",
       "      <td>Southampton</td>\n",
       "      <td>no</td>\n",
       "      <td>False</td>\n",
       "    </tr>\n",
       "    <tr>\n",
       "      <th>53</th>\n",
       "      <td>1</td>\n",
       "      <td>2</td>\n",
       "      <td>female</td>\n",
       "      <td>29.0</td>\n",
       "      <td>1</td>\n",
       "      <td>0</td>\n",
       "      <td>26.0000</td>\n",
       "      <td>S</td>\n",
       "      <td>Second</td>\n",
       "      <td>woman</td>\n",
       "      <td>False</td>\n",
       "      <td>NaN</td>\n",
       "      <td>Southampton</td>\n",
       "      <td>yes</td>\n",
       "      <td>False</td>\n",
       "    </tr>\n",
       "    <tr>\n",
       "      <th>627</th>\n",
       "      <td>1</td>\n",
       "      <td>1</td>\n",
       "      <td>female</td>\n",
       "      <td>21.0</td>\n",
       "      <td>0</td>\n",
       "      <td>0</td>\n",
       "      <td>77.9583</td>\n",
       "      <td>S</td>\n",
       "      <td>First</td>\n",
       "      <td>woman</td>\n",
       "      <td>False</td>\n",
       "      <td>D</td>\n",
       "      <td>Southampton</td>\n",
       "      <td>yes</td>\n",
       "      <td>True</td>\n",
       "    </tr>\n",
       "    <tr>\n",
       "      <th>1</th>\n",
       "      <td>1</td>\n",
       "      <td>1</td>\n",
       "      <td>female</td>\n",
       "      <td>38.0</td>\n",
       "      <td>1</td>\n",
       "      <td>0</td>\n",
       "      <td>71.2833</td>\n",
       "      <td>C</td>\n",
       "      <td>First</td>\n",
       "      <td>woman</td>\n",
       "      <td>False</td>\n",
       "      <td>C</td>\n",
       "      <td>Cherbourg</td>\n",
       "      <td>yes</td>\n",
       "      <td>False</td>\n",
       "    </tr>\n",
       "    <tr>\n",
       "      <th>101</th>\n",
       "      <td>0</td>\n",
       "      <td>3</td>\n",
       "      <td>male</td>\n",
       "      <td>NaN</td>\n",
       "      <td>0</td>\n",
       "      <td>0</td>\n",
       "      <td>7.8958</td>\n",
       "      <td>S</td>\n",
       "      <td>Third</td>\n",
       "      <td>man</td>\n",
       "      <td>True</td>\n",
       "      <td>NaN</td>\n",
       "      <td>Southampton</td>\n",
       "      <td>no</td>\n",
       "      <td>True</td>\n",
       "    </tr>\n",
       "    <tr>\n",
       "      <th>118</th>\n",
       "      <td>0</td>\n",
       "      <td>1</td>\n",
       "      <td>male</td>\n",
       "      <td>24.0</td>\n",
       "      <td>0</td>\n",
       "      <td>1</td>\n",
       "      <td>247.5208</td>\n",
       "      <td>C</td>\n",
       "      <td>First</td>\n",
       "      <td>man</td>\n",
       "      <td>True</td>\n",
       "      <td>B</td>\n",
       "      <td>Cherbourg</td>\n",
       "      <td>no</td>\n",
       "      <td>False</td>\n",
       "    </tr>\n",
       "    <tr>\n",
       "      <th>792</th>\n",
       "      <td>0</td>\n",
       "      <td>3</td>\n",
       "      <td>female</td>\n",
       "      <td>NaN</td>\n",
       "      <td>8</td>\n",
       "      <td>2</td>\n",
       "      <td>69.5500</td>\n",
       "      <td>S</td>\n",
       "      <td>Third</td>\n",
       "      <td>woman</td>\n",
       "      <td>False</td>\n",
       "      <td>NaN</td>\n",
       "      <td>Southampton</td>\n",
       "      <td>no</td>\n",
       "      <td>False</td>\n",
       "    </tr>\n",
       "    <tr>\n",
       "      <th>695</th>\n",
       "      <td>0</td>\n",
       "      <td>2</td>\n",
       "      <td>male</td>\n",
       "      <td>52.0</td>\n",
       "      <td>0</td>\n",
       "      <td>0</td>\n",
       "      <td>13.5000</td>\n",
       "      <td>S</td>\n",
       "      <td>Second</td>\n",
       "      <td>man</td>\n",
       "      <td>True</td>\n",
       "      <td>NaN</td>\n",
       "      <td>Southampton</td>\n",
       "      <td>no</td>\n",
       "      <td>True</td>\n",
       "    </tr>\n",
       "  </tbody>\n",
       "</table>\n",
       "</div>"
      ],
      "text/plain": [
       "     survived  pclass     sex   age  sibsp  parch      fare embarked   class  \\\n",
       "488         0       3    male  30.0      0      0    8.0500        S   Third   \n",
       "319         1       1  female  40.0      1      1  134.5000        C   First   \n",
       "424         0       3    male  18.0      1      1   20.2125        S   Third   \n",
       "53          1       2  female  29.0      1      0   26.0000        S  Second   \n",
       "627         1       1  female  21.0      0      0   77.9583        S   First   \n",
       "1           1       1  female  38.0      1      0   71.2833        C   First   \n",
       "101         0       3    male   NaN      0      0    7.8958        S   Third   \n",
       "118         0       1    male  24.0      0      1  247.5208        C   First   \n",
       "792         0       3  female   NaN      8      2   69.5500        S   Third   \n",
       "695         0       2    male  52.0      0      0   13.5000        S  Second   \n",
       "\n",
       "       who  adult_male deck  embark_town alive  alone  \n",
       "488    man        True  NaN  Southampton    no   True  \n",
       "319  woman       False    E    Cherbourg   yes  False  \n",
       "424    man        True  NaN  Southampton    no  False  \n",
       "53   woman       False  NaN  Southampton   yes  False  \n",
       "627  woman       False    D  Southampton   yes   True  \n",
       "1    woman       False    C    Cherbourg   yes  False  \n",
       "101    man        True  NaN  Southampton    no   True  \n",
       "118    man        True    B    Cherbourg    no  False  \n",
       "792  woman       False  NaN  Southampton    no  False  \n",
       "695    man        True  NaN  Southampton    no   True  "
      ]
     },
     "execution_count": 10,
     "metadata": {},
     "output_type": "execute_result"
    }
   ],
   "source": [
    "df.sample(10)"
   ]
  },
  {
   "cell_type": "markdown",
   "id": "09fe3cd4",
   "metadata": {
    "papermill": {
     "duration": 0.020369,
     "end_time": "2024-08-03T04:03:59.904474",
     "exception": false,
     "start_time": "2024-08-03T04:03:59.884105",
     "status": "completed"
    },
    "tags": []
   },
   "source": [
    "### Column Types\n",
    "\n",
    "- **Numerical** - Age,Fare\n",
    "- **Categorical** - Survived,class,Sex,SibSp,Parch,Embarked,who \n",
    "- **boolen** - adult_male,alive,alone"
   ]
  },
  {
   "cell_type": "markdown",
   "id": "e2b65e8f",
   "metadata": {
    "papermill": {
     "duration": 0.022974,
     "end_time": "2024-08-03T04:03:59.948319",
     "exception": false,
     "start_time": "2024-08-03T04:03:59.925345",
     "status": "completed"
    },
    "tags": []
   },
   "source": [
    "### Univariate Analysis "
   ]
  },
  {
   "cell_type": "markdown",
   "id": "379878e6",
   "metadata": {
    "papermill": {
     "duration": 0.020778,
     "end_time": "2024-08-03T04:03:59.990935",
     "exception": false,
     "start_time": "2024-08-03T04:03:59.970157",
     "status": "completed"
    },
    "tags": []
   },
   "source": [
    "#### Age\n",
    "**conclusions**\n",
    "- Age is normally distribution\n",
    "- 19 % missing values\n",
    "- some outlier"
   ]
  },
  {
   "cell_type": "code",
   "execution_count": 11,
   "id": "d4eac290",
   "metadata": {
    "execution": {
     "iopub.execute_input": "2024-08-03T04:04:00.034444Z",
     "iopub.status.busy": "2024-08-03T04:04:00.034014Z",
     "iopub.status.idle": "2024-08-03T04:04:00.047701Z",
     "shell.execute_reply": "2024-08-03T04:04:00.046467Z"
    },
    "papermill": {
     "duration": 0.038869,
     "end_time": "2024-08-03T04:04:00.050482",
     "exception": false,
     "start_time": "2024-08-03T04:04:00.011613",
     "status": "completed"
    },
    "tags": []
   },
   "outputs": [
    {
     "data": {
      "text/plain": [
       "count    714.000000\n",
       "mean      29.699118\n",
       "std       14.526497\n",
       "min        0.420000\n",
       "25%       20.125000\n",
       "50%       28.000000\n",
       "75%       38.000000\n",
       "max       80.000000\n",
       "Name: age, dtype: float64"
      ]
     },
     "execution_count": 11,
     "metadata": {},
     "output_type": "execute_result"
    }
   ],
   "source": [
    "df['age'].describe()"
   ]
  },
  {
   "cell_type": "code",
   "execution_count": 12,
   "id": "9a2aa4c3",
   "metadata": {
    "execution": {
     "iopub.execute_input": "2024-08-03T04:04:00.157712Z",
     "iopub.status.busy": "2024-08-03T04:04:00.157274Z",
     "iopub.status.idle": "2024-08-03T04:04:00.687418Z",
     "shell.execute_reply": "2024-08-03T04:04:00.685787Z"
    },
    "papermill": {
     "duration": 0.558956,
     "end_time": "2024-08-03T04:04:00.692788",
     "exception": false,
     "start_time": "2024-08-03T04:04:00.133832",
     "status": "completed"
    },
    "tags": []
   },
   "outputs": [
    {
     "name": "stderr",
     "output_type": "stream",
     "text": [
      "/opt/conda/lib/python3.10/site-packages/seaborn/_oldcore.py:1119: FutureWarning: use_inf_as_na option is deprecated and will be removed in a future version. Convert inf values to NaN before operating instead.\n",
      "  with pd.option_context('mode.use_inf_as_na', True):\n"
     ]
    },
    {
     "data": {
      "text/plain": [
       "<Axes: xlabel='age', ylabel='Count'>"
      ]
     },
     "execution_count": 12,
     "metadata": {},
     "output_type": "execute_result"
    },
    {
     "data": {
      "image/png": "[encoded data removed]",
      "text/plain": [
       "<Figure size 640x480 with 1 Axes>"
      ]
     },
     "metadata": {},
     "output_type": "display_data"
    }
   ],
   "source": [
    "sns.histplot(df['age'],bins=10)"
   ]
  },
  {
   "cell_type": "code",
   "execution_count": 13,
   "id": "bc461c0d",
   "metadata": {
    "execution": {
     "iopub.execute_input": "2024-08-03T04:04:00.749370Z",
     "iopub.status.busy": "2024-08-03T04:04:00.748918Z",
     "iopub.status.idle": "2024-08-03T04:04:01.102970Z",
     "shell.execute_reply": "2024-08-03T04:04:01.101765Z"
    },
    "papermill": {
     "duration": 0.381578,
     "end_time": "2024-08-03T04:04:01.105525",
     "exception": false,
     "start_time": "2024-08-03T04:04:00.723947",
     "status": "completed"
    },
    "tags": []
   },
   "outputs": [
    {
     "name": "stderr",
     "output_type": "stream",
     "text": [
      "/opt/conda/lib/python3.10/site-packages/seaborn/_oldcore.py:1119: FutureWarning: use_inf_as_na option is deprecated and will be removed in a future version. Convert inf values to NaN before operating instead.\n",
      "  with pd.option_context('mode.use_inf_as_na', True):\n"
     ]
    },
    {
     "data": {
      "text/plain": [
       "<Axes: xlabel='age', ylabel='Density'>"
      ]
     },
     "execution_count": 13,
     "metadata": {},
     "output_type": "execute_result"
    },
    {
     "data": {
      "image/png": "[encoded data removed]",
      "text/plain": [
       "<Figure size 640x480 with 1 Axes>"
      ]
     },
     "metadata": {},
     "output_type": "display_data"
    }
   ],
   "source": [
    "sns.kdeplot(df['age'])"
   ]
  },
  {
   "cell_type": "code",
   "execution_count": 14,
   "id": "e698fa52",
   "metadata": {
    "execution": {
     "iopub.execute_input": "2024-08-03T04:04:01.154019Z",
     "iopub.status.busy": "2024-08-03T04:04:01.153545Z",
     "iopub.status.idle": "2024-08-03T04:04:01.162349Z",
     "shell.execute_reply": "2024-08-03T04:04:01.161088Z"
    },
    "papermill": {
     "duration": 0.036453,
     "end_time": "2024-08-03T04:04:01.165340",
     "exception": false,
     "start_time": "2024-08-03T04:04:01.128887",
     "status": "completed"
    },
    "tags": []
   },
   "outputs": [
    {
     "data": {
      "text/plain": [
       "0.38910778230082704"
      ]
     },
     "execution_count": 14,
     "metadata": {},
     "output_type": "execute_result"
    }
   ],
   "source": [
    "df['age'].skew()"
   ]
  },
  {
   "cell_type": "code",
   "execution_count": 15,
   "id": "c76c217c",
   "metadata": {
    "execution": {
     "iopub.execute_input": "2024-08-03T04:04:01.213000Z",
     "iopub.status.busy": "2024-08-03T04:04:01.212561Z",
     "iopub.status.idle": "2024-08-03T04:04:01.469240Z",
     "shell.execute_reply": "2024-08-03T04:04:01.467570Z"
    },
    "papermill": {
     "duration": 0.284776,
     "end_time": "2024-08-03T04:04:01.472608",
     "exception": false,
     "start_time": "2024-08-03T04:04:01.187832",
     "status": "completed"
    },
    "tags": []
   },
   "outputs": [
    {
     "data": {
      "text/plain": [
       "<Axes: >"
      ]
     },
     "execution_count": 15,
     "metadata": {},
     "output_type": "execute_result"
    },
    {
     "data": {
      "image/png": "[encoded data removed]",
      "text/plain": [
       "<Figure size 640x480 with 1 Axes>"
      ]
     },
     "metadata": {},
     "output_type": "display_data"
    }
   ],
   "source": [
    "sns.boxplot(df['age'])"
   ]
  },
  {
   "cell_type": "code",
   "execution_count": 16,
   "id": "0edffed8",
   "metadata": {
    "execution": {
     "iopub.execute_input": "2024-08-03T04:04:01.523725Z",
     "iopub.status.busy": "2024-08-03T04:04:01.523292Z",
     "iopub.status.idle": "2024-08-03T04:04:01.532737Z",
     "shell.execute_reply": "2024-08-03T04:04:01.531223Z"
    },
    "papermill": {
     "duration": 0.036902,
     "end_time": "2024-08-03T04:04:01.535427",
     "exception": false,
     "start_time": "2024-08-03T04:04:01.498525",
     "status": "completed"
    },
    "tags": []
   },
   "outputs": [
    {
     "data": {
      "text/plain": [
       "0.19865319865319866"
      ]
     },
     "execution_count": 16,
     "metadata": {},
     "output_type": "execute_result"
    }
   ],
   "source": [
    "df['age'].isnull().sum()/len(df['age'])"
   ]
  },
  {
   "cell_type": "markdown",
   "id": "da0e6e74",
   "metadata": {
    "papermill": {
     "duration": 0.02345,
     "end_time": "2024-08-03T04:04:01.583787",
     "exception": false,
     "start_time": "2024-08-03T04:04:01.560337",
     "status": "completed"
    },
    "tags": []
   },
   "source": [
    "## Fare\n",
    "**conclusions**\n",
    "- data highly positive or right skewness\n",
    "- more outlier \n",
    "- repeate the same fare more time \n",
    "- Not missing value"
   ]
  },
  {
   "cell_type": "code",
   "execution_count": 17,
   "id": "ece4fd35",
   "metadata": {
    "execution": {
     "iopub.execute_input": "2024-08-03T04:04:01.632491Z",
     "iopub.status.busy": "2024-08-03T04:04:01.632035Z",
     "iopub.status.idle": "2024-08-03T04:04:01.645254Z",
     "shell.execute_reply": "2024-08-03T04:04:01.643998Z"
    },
    "papermill": {
     "duration": 0.041079,
     "end_time": "2024-08-03T04:04:01.648176",
     "exception": false,
     "start_time": "2024-08-03T04:04:01.607097",
     "status": "completed"
    },
    "tags": []
   },
   "outputs": [
    {
     "data": {
      "text/plain": [
       "count    891.000000\n",
       "mean      32.204208\n",
       "std       49.693429\n",
       "min        0.000000\n",
       "25%        7.910400\n",
       "50%       14.454200\n",
       "75%       31.000000\n",
       "max      512.329200\n",
       "Name: fare, dtype: float64"
      ]
     },
     "execution_count": 17,
     "metadata": {},
     "output_type": "execute_result"
    }
   ],
   "source": [
    "df['fare'].describe()"
   ]
  },
  {
   "cell_type": "code",
   "execution_count": 18,
   "id": "c773e200",
   "metadata": {
    "execution": {
     "iopub.execute_input": "2024-08-03T04:04:01.697279Z",
     "iopub.status.busy": "2024-08-03T04:04:01.696876Z",
     "iopub.status.idle": "2024-08-03T04:04:02.180732Z",
     "shell.execute_reply": "2024-08-03T04:04:02.179499Z"
    },
    "papermill": {
     "duration": 0.511639,
     "end_time": "2024-08-03T04:04:02.183516",
     "exception": false,
     "start_time": "2024-08-03T04:04:01.671877",
     "status": "completed"
    },
    "tags": []
   },
   "outputs": [
    {
     "name": "stderr",
     "output_type": "stream",
     "text": [
      "/opt/conda/lib/python3.10/site-packages/seaborn/_oldcore.py:1119: FutureWarning: use_inf_as_na option is deprecated and will be removed in a future version. Convert inf values to NaN before operating instead.\n",
      "  with pd.option_context('mode.use_inf_as_na', True):\n"
     ]
    },
    {
     "data": {
      "text/plain": [
       "<seaborn.axisgrid.FacetGrid at 0x78e7361aae90>"
      ]
     },
     "execution_count": 18,
     "metadata": {},
     "output_type": "execute_result"
    },
    {
     "data": {
      "image/png": "[encoded data removed]",
      "text/plain": [
       "<Figure size 500x500 with 1 Axes>"
      ]
     },
     "metadata": {},
     "output_type": "display_data"
    }
   ],
   "source": [
    "sns.displot(df['fare'],bins=20,kind='hist',kde=True)"
   ]
  },
  {
   "cell_type": "code",
   "execution_count": 19,
   "id": "a5833b6d",
   "metadata": {
    "execution": {
     "iopub.execute_input": "2024-08-03T04:04:02.233445Z",
     "iopub.status.busy": "2024-08-03T04:04:02.233031Z",
     "iopub.status.idle": "2024-08-03T04:04:02.241511Z",
     "shell.execute_reply": "2024-08-03T04:04:02.239995Z"
    },
    "papermill": {
     "duration": 0.036911,
     "end_time": "2024-08-03T04:04:02.244289",
     "exception": false,
     "start_time": "2024-08-03T04:04:02.207378",
     "status": "completed"
    },
    "tags": []
   },
   "outputs": [
    {
     "data": {
      "text/plain": [
       "4.787316519674893"
      ]
     },
     "execution_count": 19,
     "metadata": {},
     "output_type": "execute_result"
    }
   ],
   "source": [
    "df['fare'].skew()"
   ]
  },
  {
   "cell_type": "code",
   "execution_count": 20,
   "id": "b630503b",
   "metadata": {
    "execution": {
     "iopub.execute_input": "2024-08-03T04:04:02.296469Z",
     "iopub.status.busy": "2024-08-03T04:04:02.296012Z",
     "iopub.status.idle": "2024-08-03T04:04:02.471881Z",
     "shell.execute_reply": "2024-08-03T04:04:02.470451Z"
    },
    "papermill": {
     "duration": 0.20594,
     "end_time": "2024-08-03T04:04:02.474707",
     "exception": false,
     "start_time": "2024-08-03T04:04:02.268767",
     "status": "completed"
    },
    "tags": []
   },
   "outputs": [
    {
     "data": {
      "text/plain": [
       "<Axes: >"
      ]
     },
     "execution_count": 20,
     "metadata": {},
     "output_type": "execute_result"
    },
    {
     "data": {
      "image/png": "[encoded data removed]",
      "text/plain": [
       "<Figure size 640x480 with 1 Axes>"
      ]
     },
     "metadata": {},
     "output_type": "display_data"
    }
   ],
   "source": [
    "sns.boxplot(df['fare'])"
   ]
  },
  {
   "cell_type": "code",
   "execution_count": 21,
   "id": "efd5e76c",
   "metadata": {
    "execution": {
     "iopub.execute_input": "2024-08-03T04:04:02.529426Z",
     "iopub.status.busy": "2024-08-03T04:04:02.528959Z",
     "iopub.status.idle": "2024-08-03T04:04:02.562465Z",
     "shell.execute_reply": "2024-08-03T04:04:02.561175Z"
    },
    "papermill": {
     "duration": 0.061959,
     "end_time": "2024-08-03T04:04:02.564973",
     "exception": false,
     "start_time": "2024-08-03T04:04:02.503014",
     "status": "completed"
    },
    "tags": []
   },
   "outputs": [
    {
     "data": {
      "text/html": [
       "<div>\n",
       "<style scoped>\n",
       "    .dataframe tbody tr th:only-of-type {\n",
       "        vertical-align: middle;\n",
       "    }\n",
       "\n",
       "    .dataframe tbody tr th {\n",
       "        vertical-align: top;\n",
       "    }\n",
       "\n",
       "    .dataframe thead th {\n",
       "        text-align: right;\n",
       "    }\n",
       "</style>\n",
       "<table border=\"1\" class=\"dataframe\">\n",
       "  <thead>\n",
       "    <tr style=\"text-align: right;\">\n",
       "      <th></th>\n",
       "      <th>survived</th>\n",
       "      <th>pclass</th>\n",
       "      <th>sex</th>\n",
       "      <th>age</th>\n",
       "      <th>sibsp</th>\n",
       "      <th>parch</th>\n",
       "      <th>fare</th>\n",
       "      <th>embarked</th>\n",
       "      <th>class</th>\n",
       "      <th>who</th>\n",
       "      <th>adult_male</th>\n",
       "      <th>deck</th>\n",
       "      <th>embark_town</th>\n",
       "      <th>alive</th>\n",
       "      <th>alone</th>\n",
       "    </tr>\n",
       "  </thead>\n",
       "  <tbody>\n",
       "    <tr>\n",
       "      <th>27</th>\n",
       "      <td>0</td>\n",
       "      <td>1</td>\n",
       "      <td>male</td>\n",
       "      <td>19.0</td>\n",
       "      <td>3</td>\n",
       "      <td>2</td>\n",
       "      <td>263.0000</td>\n",
       "      <td>S</td>\n",
       "      <td>First</td>\n",
       "      <td>man</td>\n",
       "      <td>True</td>\n",
       "      <td>C</td>\n",
       "      <td>Southampton</td>\n",
       "      <td>no</td>\n",
       "      <td>False</td>\n",
       "    </tr>\n",
       "    <tr>\n",
       "      <th>88</th>\n",
       "      <td>1</td>\n",
       "      <td>1</td>\n",
       "      <td>female</td>\n",
       "      <td>23.0</td>\n",
       "      <td>3</td>\n",
       "      <td>2</td>\n",
       "      <td>263.0000</td>\n",
       "      <td>S</td>\n",
       "      <td>First</td>\n",
       "      <td>woman</td>\n",
       "      <td>False</td>\n",
       "      <td>C</td>\n",
       "      <td>Southampton</td>\n",
       "      <td>yes</td>\n",
       "      <td>False</td>\n",
       "    </tr>\n",
       "    <tr>\n",
       "      <th>118</th>\n",
       "      <td>0</td>\n",
       "      <td>1</td>\n",
       "      <td>male</td>\n",
       "      <td>24.0</td>\n",
       "      <td>0</td>\n",
       "      <td>1</td>\n",
       "      <td>247.5208</td>\n",
       "      <td>C</td>\n",
       "      <td>First</td>\n",
       "      <td>man</td>\n",
       "      <td>True</td>\n",
       "      <td>B</td>\n",
       "      <td>Cherbourg</td>\n",
       "      <td>no</td>\n",
       "      <td>False</td>\n",
       "    </tr>\n",
       "    <tr>\n",
       "      <th>258</th>\n",
       "      <td>1</td>\n",
       "      <td>1</td>\n",
       "      <td>female</td>\n",
       "      <td>35.0</td>\n",
       "      <td>0</td>\n",
       "      <td>0</td>\n",
       "      <td>512.3292</td>\n",
       "      <td>C</td>\n",
       "      <td>First</td>\n",
       "      <td>woman</td>\n",
       "      <td>False</td>\n",
       "      <td>NaN</td>\n",
       "      <td>Cherbourg</td>\n",
       "      <td>yes</td>\n",
       "      <td>True</td>\n",
       "    </tr>\n",
       "    <tr>\n",
       "      <th>299</th>\n",
       "      <td>1</td>\n",
       "      <td>1</td>\n",
       "      <td>female</td>\n",
       "      <td>50.0</td>\n",
       "      <td>0</td>\n",
       "      <td>1</td>\n",
       "      <td>247.5208</td>\n",
       "      <td>C</td>\n",
       "      <td>First</td>\n",
       "      <td>woman</td>\n",
       "      <td>False</td>\n",
       "      <td>B</td>\n",
       "      <td>Cherbourg</td>\n",
       "      <td>yes</td>\n",
       "      <td>False</td>\n",
       "    </tr>\n",
       "    <tr>\n",
       "      <th>311</th>\n",
       "      <td>1</td>\n",
       "      <td>1</td>\n",
       "      <td>female</td>\n",
       "      <td>18.0</td>\n",
       "      <td>2</td>\n",
       "      <td>2</td>\n",
       "      <td>262.3750</td>\n",
       "      <td>C</td>\n",
       "      <td>First</td>\n",
       "      <td>woman</td>\n",
       "      <td>False</td>\n",
       "      <td>B</td>\n",
       "      <td>Cherbourg</td>\n",
       "      <td>yes</td>\n",
       "      <td>False</td>\n",
       "    </tr>\n",
       "    <tr>\n",
       "      <th>341</th>\n",
       "      <td>1</td>\n",
       "      <td>1</td>\n",
       "      <td>female</td>\n",
       "      <td>24.0</td>\n",
       "      <td>3</td>\n",
       "      <td>2</td>\n",
       "      <td>263.0000</td>\n",
       "      <td>S</td>\n",
       "      <td>First</td>\n",
       "      <td>woman</td>\n",
       "      <td>False</td>\n",
       "      <td>C</td>\n",
       "      <td>Southampton</td>\n",
       "      <td>yes</td>\n",
       "      <td>False</td>\n",
       "    </tr>\n",
       "    <tr>\n",
       "      <th>377</th>\n",
       "      <td>0</td>\n",
       "      <td>1</td>\n",
       "      <td>male</td>\n",
       "      <td>27.0</td>\n",
       "      <td>0</td>\n",
       "      <td>2</td>\n",
       "      <td>211.5000</td>\n",
       "      <td>C</td>\n",
       "      <td>First</td>\n",
       "      <td>man</td>\n",
       "      <td>True</td>\n",
       "      <td>C</td>\n",
       "      <td>Cherbourg</td>\n",
       "      <td>no</td>\n",
       "      <td>False</td>\n",
       "    </tr>\n",
       "    <tr>\n",
       "      <th>380</th>\n",
       "      <td>1</td>\n",
       "      <td>1</td>\n",
       "      <td>female</td>\n",
       "      <td>42.0</td>\n",
       "      <td>0</td>\n",
       "      <td>0</td>\n",
       "      <td>227.5250</td>\n",
       "      <td>C</td>\n",
       "      <td>First</td>\n",
       "      <td>woman</td>\n",
       "      <td>False</td>\n",
       "      <td>NaN</td>\n",
       "      <td>Cherbourg</td>\n",
       "      <td>yes</td>\n",
       "      <td>True</td>\n",
       "    </tr>\n",
       "    <tr>\n",
       "      <th>438</th>\n",
       "      <td>0</td>\n",
       "      <td>1</td>\n",
       "      <td>male</td>\n",
       "      <td>64.0</td>\n",
       "      <td>1</td>\n",
       "      <td>4</td>\n",
       "      <td>263.0000</td>\n",
       "      <td>S</td>\n",
       "      <td>First</td>\n",
       "      <td>man</td>\n",
       "      <td>True</td>\n",
       "      <td>C</td>\n",
       "      <td>Southampton</td>\n",
       "      <td>no</td>\n",
       "      <td>False</td>\n",
       "    </tr>\n",
       "    <tr>\n",
       "      <th>527</th>\n",
       "      <td>0</td>\n",
       "      <td>1</td>\n",
       "      <td>male</td>\n",
       "      <td>NaN</td>\n",
       "      <td>0</td>\n",
       "      <td>0</td>\n",
       "      <td>221.7792</td>\n",
       "      <td>S</td>\n",
       "      <td>First</td>\n",
       "      <td>man</td>\n",
       "      <td>True</td>\n",
       "      <td>C</td>\n",
       "      <td>Southampton</td>\n",
       "      <td>no</td>\n",
       "      <td>True</td>\n",
       "    </tr>\n",
       "    <tr>\n",
       "      <th>557</th>\n",
       "      <td>0</td>\n",
       "      <td>1</td>\n",
       "      <td>male</td>\n",
       "      <td>NaN</td>\n",
       "      <td>0</td>\n",
       "      <td>0</td>\n",
       "      <td>227.5250</td>\n",
       "      <td>C</td>\n",
       "      <td>First</td>\n",
       "      <td>man</td>\n",
       "      <td>True</td>\n",
       "      <td>NaN</td>\n",
       "      <td>Cherbourg</td>\n",
       "      <td>no</td>\n",
       "      <td>True</td>\n",
       "    </tr>\n",
       "    <tr>\n",
       "      <th>679</th>\n",
       "      <td>1</td>\n",
       "      <td>1</td>\n",
       "      <td>male</td>\n",
       "      <td>36.0</td>\n",
       "      <td>0</td>\n",
       "      <td>1</td>\n",
       "      <td>512.3292</td>\n",
       "      <td>C</td>\n",
       "      <td>First</td>\n",
       "      <td>man</td>\n",
       "      <td>True</td>\n",
       "      <td>B</td>\n",
       "      <td>Cherbourg</td>\n",
       "      <td>yes</td>\n",
       "      <td>False</td>\n",
       "    </tr>\n",
       "    <tr>\n",
       "      <th>689</th>\n",
       "      <td>1</td>\n",
       "      <td>1</td>\n",
       "      <td>female</td>\n",
       "      <td>15.0</td>\n",
       "      <td>0</td>\n",
       "      <td>1</td>\n",
       "      <td>211.3375</td>\n",
       "      <td>S</td>\n",
       "      <td>First</td>\n",
       "      <td>child</td>\n",
       "      <td>False</td>\n",
       "      <td>B</td>\n",
       "      <td>Southampton</td>\n",
       "      <td>yes</td>\n",
       "      <td>False</td>\n",
       "    </tr>\n",
       "    <tr>\n",
       "      <th>700</th>\n",
       "      <td>1</td>\n",
       "      <td>1</td>\n",
       "      <td>female</td>\n",
       "      <td>18.0</td>\n",
       "      <td>1</td>\n",
       "      <td>0</td>\n",
       "      <td>227.5250</td>\n",
       "      <td>C</td>\n",
       "      <td>First</td>\n",
       "      <td>woman</td>\n",
       "      <td>False</td>\n",
       "      <td>C</td>\n",
       "      <td>Cherbourg</td>\n",
       "      <td>yes</td>\n",
       "      <td>False</td>\n",
       "    </tr>\n",
       "    <tr>\n",
       "      <th>716</th>\n",
       "      <td>1</td>\n",
       "      <td>1</td>\n",
       "      <td>female</td>\n",
       "      <td>38.0</td>\n",
       "      <td>0</td>\n",
       "      <td>0</td>\n",
       "      <td>227.5250</td>\n",
       "      <td>C</td>\n",
       "      <td>First</td>\n",
       "      <td>woman</td>\n",
       "      <td>False</td>\n",
       "      <td>C</td>\n",
       "      <td>Cherbourg</td>\n",
       "      <td>yes</td>\n",
       "      <td>True</td>\n",
       "    </tr>\n",
       "    <tr>\n",
       "      <th>730</th>\n",
       "      <td>1</td>\n",
       "      <td>1</td>\n",
       "      <td>female</td>\n",
       "      <td>29.0</td>\n",
       "      <td>0</td>\n",
       "      <td>0</td>\n",
       "      <td>211.3375</td>\n",
       "      <td>S</td>\n",
       "      <td>First</td>\n",
       "      <td>woman</td>\n",
       "      <td>False</td>\n",
       "      <td>B</td>\n",
       "      <td>Southampton</td>\n",
       "      <td>yes</td>\n",
       "      <td>True</td>\n",
       "    </tr>\n",
       "    <tr>\n",
       "      <th>737</th>\n",
       "      <td>1</td>\n",
       "      <td>1</td>\n",
       "      <td>male</td>\n",
       "      <td>35.0</td>\n",
       "      <td>0</td>\n",
       "      <td>0</td>\n",
       "      <td>512.3292</td>\n",
       "      <td>C</td>\n",
       "      <td>First</td>\n",
       "      <td>man</td>\n",
       "      <td>True</td>\n",
       "      <td>B</td>\n",
       "      <td>Cherbourg</td>\n",
       "      <td>yes</td>\n",
       "      <td>True</td>\n",
       "    </tr>\n",
       "    <tr>\n",
       "      <th>742</th>\n",
       "      <td>1</td>\n",
       "      <td>1</td>\n",
       "      <td>female</td>\n",
       "      <td>21.0</td>\n",
       "      <td>2</td>\n",
       "      <td>2</td>\n",
       "      <td>262.3750</td>\n",
       "      <td>C</td>\n",
       "      <td>First</td>\n",
       "      <td>woman</td>\n",
       "      <td>False</td>\n",
       "      <td>B</td>\n",
       "      <td>Cherbourg</td>\n",
       "      <td>yes</td>\n",
       "      <td>False</td>\n",
       "    </tr>\n",
       "    <tr>\n",
       "      <th>779</th>\n",
       "      <td>1</td>\n",
       "      <td>1</td>\n",
       "      <td>female</td>\n",
       "      <td>43.0</td>\n",
       "      <td>0</td>\n",
       "      <td>1</td>\n",
       "      <td>211.3375</td>\n",
       "      <td>S</td>\n",
       "      <td>First</td>\n",
       "      <td>woman</td>\n",
       "      <td>False</td>\n",
       "      <td>B</td>\n",
       "      <td>Southampton</td>\n",
       "      <td>yes</td>\n",
       "      <td>False</td>\n",
       "    </tr>\n",
       "  </tbody>\n",
       "</table>\n",
       "</div>"
      ],
      "text/plain": [
       "     survived  pclass     sex   age  sibsp  parch      fare embarked  class  \\\n",
       "27          0       1    male  19.0      3      2  263.0000        S  First   \n",
       "88          1       1  female  23.0      3      2  263.0000        S  First   \n",
       "118         0       1    male  24.0      0      1  247.5208        C  First   \n",
       "258         1       1  female  35.0      0      0  512.3292        C  First   \n",
       "299         1       1  female  50.0      0      1  247.5208        C  First   \n",
       "311         1       1  female  18.0      2      2  262.3750        C  First   \n",
       "341         1       1  female  24.0      3      2  263.0000        S  First   \n",
       "377         0       1    male  27.0      0      2  211.5000        C  First   \n",
       "380         1       1  female  42.0      0      0  227.5250        C  First   \n",
       "438         0       1    male  64.0      1      4  263.0000        S  First   \n",
       "527         0       1    male   NaN      0      0  221.7792        S  First   \n",
       "557         0       1    male   NaN      0      0  227.5250        C  First   \n",
       "679         1       1    male  36.0      0      1  512.3292        C  First   \n",
       "689         1       1  female  15.0      0      1  211.3375        S  First   \n",
       "700         1       1  female  18.0      1      0  227.5250        C  First   \n",
       "716         1       1  female  38.0      0      0  227.5250        C  First   \n",
       "730         1       1  female  29.0      0      0  211.3375        S  First   \n",
       "737         1       1    male  35.0      0      0  512.3292        C  First   \n",
       "742         1       1  female  21.0      2      2  262.3750        C  First   \n",
       "779         1       1  female  43.0      0      1  211.3375        S  First   \n",
       "\n",
       "       who  adult_male deck  embark_town alive  alone  \n",
       "27     man        True    C  Southampton    no  False  \n",
       "88   woman       False    C  Southampton   yes  False  \n",
       "118    man        True    B    Cherbourg    no  False  \n",
       "258  woman       False  NaN    Cherbourg   yes   True  \n",
       "299  woman       False    B    Cherbourg   yes  False  \n",
       "311  woman       False    B    Cherbourg   yes  False  \n",
       "341  woman       False    C  Southampton   yes  False  \n",
       "377    man        True    C    Cherbourg    no  False  \n",
       "380  woman       False  NaN    Cherbourg   yes   True  \n",
       "438    man        True    C  Southampton    no  False  \n",
       "527    man        True    C  Southampton    no   True  \n",
       "557    man        True  NaN    Cherbourg    no   True  \n",
       "679    man        True    B    Cherbourg   yes  False  \n",
       "689  child       False    B  Southampton   yes  False  \n",
       "700  woman       False    C    Cherbourg   yes  False  \n",
       "716  woman       False    C    Cherbourg   yes   True  \n",
       "730  woman       False    B  Southampton   yes   True  \n",
       "737    man        True    B    Cherbourg   yes   True  \n",
       "742  woman       False    B    Cherbourg   yes  False  \n",
       "779  woman       False    B  Southampton   yes  False  "
      ]
     },
     "execution_count": 21,
     "metadata": {},
     "output_type": "execute_result"
    }
   ],
   "source": [
    "df[df['fare']>200]"
   ]
  },
  {
   "cell_type": "code",
   "execution_count": 22,
   "id": "3f354e55",
   "metadata": {
    "execution": {
     "iopub.execute_input": "2024-08-03T04:04:02.618076Z",
     "iopub.status.busy": "2024-08-03T04:04:02.617265Z",
     "iopub.status.idle": "2024-08-03T04:04:02.626592Z",
     "shell.execute_reply": "2024-08-03T04:04:02.625292Z"
    },
    "papermill": {
     "duration": 0.038343,
     "end_time": "2024-08-03T04:04:02.628933",
     "exception": false,
     "start_time": "2024-08-03T04:04:02.590590",
     "status": "completed"
    },
    "tags": []
   },
   "outputs": [
    {
     "data": {
      "text/plain": [
       "0.0"
      ]
     },
     "execution_count": 22,
     "metadata": {},
     "output_type": "execute_result"
    }
   ],
   "source": [
    "df['fare'].isnull().sum()/len(df['fare'])"
   ]
  },
  {
   "cell_type": "markdown",
   "id": "309e51d3",
   "metadata": {
    "papermill": {
     "duration": 0.025176,
     "end_time": "2024-08-03T04:04:02.679946",
     "exception": false,
     "start_time": "2024-08-03T04:04:02.654770",
     "status": "completed"
    },
    "tags": []
   },
   "source": [
    "#### stpes of Univariate analysis on categorical columns"
   ]
  },
  {
   "cell_type": "markdown",
   "id": "237ddbe4",
   "metadata": {
    "papermill": {
     "duration": 0.025335,
     "end_time": "2024-08-03T04:04:02.731116",
     "exception": false,
     "start_time": "2024-08-03T04:04:02.705781",
     "status": "completed"
    },
    "tags": []
   },
   "source": [
    "## survived\n",
    "**conclusions**\n",
    "- almost `62%` not survived and `39% `survived\n",
    "- not missing value "
   ]
  },
  {
   "cell_type": "code",
   "execution_count": 23,
   "id": "2db61df7",
   "metadata": {
    "execution": {
     "iopub.execute_input": "2024-08-03T04:04:02.784167Z",
     "iopub.status.busy": "2024-08-03T04:04:02.783744Z",
     "iopub.status.idle": "2024-08-03T04:04:02.795450Z",
     "shell.execute_reply": "2024-08-03T04:04:02.794233Z"
    },
    "papermill": {
     "duration": 0.041916,
     "end_time": "2024-08-03T04:04:02.798132",
     "exception": false,
     "start_time": "2024-08-03T04:04:02.756216",
     "status": "completed"
    },
    "tags": []
   },
   "outputs": [
    {
     "data": {
      "text/plain": [
       "survived\n",
       "0    549\n",
       "1    342\n",
       "Name: count, dtype: int64"
      ]
     },
     "execution_count": 23,
     "metadata": {},
     "output_type": "execute_result"
    }
   ],
   "source": [
    "df['survived'].value_counts()"
   ]
  },
  {
   "cell_type": "code",
   "execution_count": 24,
   "id": "f8e9d69e",
   "metadata": {
    "execution": {
     "iopub.execute_input": "2024-08-03T04:04:02.850848Z",
     "iopub.status.busy": "2024-08-03T04:04:02.850446Z",
     "iopub.status.idle": "2024-08-03T04:04:02.995907Z",
     "shell.execute_reply": "2024-08-03T04:04:02.993759Z"
    },
    "papermill": {
     "duration": 0.174977,
     "end_time": "2024-08-03T04:04:02.998475",
     "exception": false,
     "start_time": "2024-08-03T04:04:02.823498",
     "status": "completed"
    },
    "tags": []
   },
   "outputs": [
    {
     "data": {
      "text/plain": [
       "<Axes: ylabel='count'>"
      ]
     },
     "execution_count": 24,
     "metadata": {},
     "output_type": "execute_result"
    },
    {
     "data": {
      "image/png": "[encoded data removed]",
      "text/plain": [
       "<Figure size 640x480 with 1 Axes>"
      ]
     },
     "metadata": {},
     "output_type": "display_data"
    }
   ],
   "source": [
    "df['survived'].value_counts().plot(kind='pie',autopct='%0.1f%%')"
   ]
  },
  {
   "cell_type": "code",
   "execution_count": 25,
   "id": "53089840",
   "metadata": {
    "execution": {
     "iopub.execute_input": "2024-08-03T04:04:03.054258Z",
     "iopub.status.busy": "2024-08-03T04:04:03.053794Z",
     "iopub.status.idle": "2024-08-03T04:04:03.063423Z",
     "shell.execute_reply": "2024-08-03T04:04:03.062207Z"
    },
    "papermill": {
     "duration": 0.040883,
     "end_time": "2024-08-03T04:04:03.066479",
     "exception": false,
     "start_time": "2024-08-03T04:04:03.025596",
     "status": "completed"
    },
    "tags": []
   },
   "outputs": [
    {
     "data": {
      "text/plain": [
       "survived\n",
       "0    549\n",
       "1    342\n",
       "Name: count, dtype: int64"
      ]
     },
     "execution_count": 25,
     "metadata": {},
     "output_type": "execute_result"
    }
   ],
   "source": [
    "df['survived'].value_counts()"
   ]
  },
  {
   "cell_type": "code",
   "execution_count": 26,
   "id": "625fbc18",
   "metadata": {
    "execution": {
     "iopub.execute_input": "2024-08-03T04:04:03.122904Z",
     "iopub.status.busy": "2024-08-03T04:04:03.121578Z",
     "iopub.status.idle": "2024-08-03T04:04:03.309086Z",
     "shell.execute_reply": "2024-08-03T04:04:03.307856Z"
    },
    "papermill": {
     "duration": 0.218647,
     "end_time": "2024-08-03T04:04:03.311850",
     "exception": false,
     "start_time": "2024-08-03T04:04:03.093203",
     "status": "completed"
    },
    "tags": []
   },
   "outputs": [
    {
     "data": {
      "text/plain": [
       "<Axes: xlabel='survived'>"
      ]
     },
     "execution_count": 26,
     "metadata": {},
     "output_type": "execute_result"
    },
    {
     "data": {
      "image/png": "[encoded data removed]",
      "text/plain": [
       "<Figure size 640x480 with 1 Axes>"
      ]
     },
     "metadata": {},
     "output_type": "display_data"
    }
   ],
   "source": [
    "df['survived'].value_counts().plot(kind='bar')"
   ]
  },
  {
   "cell_type": "code",
   "execution_count": 27,
   "id": "f1696121",
   "metadata": {
    "execution": {
     "iopub.execute_input": "2024-08-03T04:04:03.367465Z",
     "iopub.status.busy": "2024-08-03T04:04:03.367010Z",
     "iopub.status.idle": "2024-08-03T04:04:03.375473Z",
     "shell.execute_reply": "2024-08-03T04:04:03.374292Z"
    },
    "papermill": {
     "duration": 0.039728,
     "end_time": "2024-08-03T04:04:03.378243",
     "exception": false,
     "start_time": "2024-08-03T04:04:03.338515",
     "status": "completed"
    },
    "tags": []
   },
   "outputs": [
    {
     "data": {
      "text/plain": [
       "0.0"
      ]
     },
     "execution_count": 27,
     "metadata": {},
     "output_type": "execute_result"
    }
   ],
   "source": [
    "df['survived'].isnull().sum()/len(df['survived'])"
   ]
  },
  {
   "cell_type": "markdown",
   "id": "cb929bbc",
   "metadata": {
    "papermill": {
     "duration": 0.026317,
     "end_time": "2024-08-03T04:04:03.431393",
     "exception": false,
     "start_time": "2024-08-03T04:04:03.405076",
     "status": "completed"
    },
    "tags": []
   },
   "source": [
    "## class\n",
    "**conclusions**\n",
    "- class\n",
    "  - firt `24.2%`\n",
    "  - second `25%`\n",
    "  - third `55%`\n",
    "- not missing value "
   ]
  },
  {
   "cell_type": "code",
   "execution_count": 28,
   "id": "ec00d502",
   "metadata": {
    "execution": {
     "iopub.execute_input": "2024-08-03T04:04:03.486849Z",
     "iopub.status.busy": "2024-08-03T04:04:03.486390Z",
     "iopub.status.idle": "2024-08-03T04:04:03.499610Z",
     "shell.execute_reply": "2024-08-03T04:04:03.498081Z"
    },
    "papermill": {
     "duration": 0.043961,
     "end_time": "2024-08-03T04:04:03.502436",
     "exception": false,
     "start_time": "2024-08-03T04:04:03.458475",
     "status": "completed"
    },
    "tags": []
   },
   "outputs": [
    {
     "data": {
      "text/plain": [
       "class\n",
       "Third     491\n",
       "First     216\n",
       "Second    184\n",
       "Name: count, dtype: int64"
      ]
     },
     "execution_count": 28,
     "metadata": {},
     "output_type": "execute_result"
    }
   ],
   "source": [
    "df['class'].value_counts()"
   ]
  },
  {
   "cell_type": "code",
   "execution_count": 29,
   "id": "baf4b210",
   "metadata": {
    "execution": {
     "iopub.execute_input": "2024-08-03T04:04:03.561273Z",
     "iopub.status.busy": "2024-08-03T04:04:03.560278Z",
     "iopub.status.idle": "2024-08-03T04:04:03.693075Z",
     "shell.execute_reply": "2024-08-03T04:04:03.691809Z"
    },
    "papermill": {
     "duration": 0.166638,
     "end_time": "2024-08-03T04:04:03.698013",
     "exception": false,
     "start_time": "2024-08-03T04:04:03.531375",
     "status": "completed"
    },
    "tags": []
   },
   "outputs": [
    {
     "data": {
      "text/plain": [
       "<Axes: ylabel='count'>"
      ]
     },
     "execution_count": 29,
     "metadata": {},
     "output_type": "execute_result"
    },
    {
     "data": {
      "image/png": "[encoded data removed]",
      "text/plain": [
       "<Figure size 640x480 with 1 Axes>"
      ]
     },
     "metadata": {},
     "output_type": "display_data"
    }
   ],
   "source": [
    "df['class'].value_counts().plot(kind='pie',autopct='%0.1f%%')"
   ]
  },
  {
   "cell_type": "code",
   "execution_count": 30,
   "id": "b2a9ffac",
   "metadata": {
    "execution": {
     "iopub.execute_input": "2024-08-03T04:04:03.798578Z",
     "iopub.status.busy": "2024-08-03T04:04:03.798141Z",
     "iopub.status.idle": "2024-08-03T04:04:03.994077Z",
     "shell.execute_reply": "2024-08-03T04:04:03.992771Z"
    },
    "papermill": {
     "duration": 0.241469,
     "end_time": "2024-08-03T04:04:03.997016",
     "exception": false,
     "start_time": "2024-08-03T04:04:03.755547",
     "status": "completed"
    },
    "tags": []
   },
   "outputs": [
    {
     "data": {
      "text/plain": [
       "<Axes: xlabel='class'>"
      ]
     },
     "execution_count": 30,
     "metadata": {},
     "output_type": "execute_result"
    },
    {
     "data": {
      "image/png": "[encoded data removed]",
      "text/plain": [
       "<Figure size 640x480 with 1 Axes>"
      ]
     },
     "metadata": {},
     "output_type": "display_data"
    }
   ],
   "source": [
    "df['class'].value_counts().plot(kind='bar')"
   ]
  },
  {
   "cell_type": "code",
   "execution_count": 31,
   "id": "af99efc2",
   "metadata": {
    "execution": {
     "iopub.execute_input": "2024-08-03T04:04:04.056822Z",
     "iopub.status.busy": "2024-08-03T04:04:04.056357Z",
     "iopub.status.idle": "2024-08-03T04:04:04.064807Z",
     "shell.execute_reply": "2024-08-03T04:04:04.063684Z"
    },
    "papermill": {
     "duration": 0.041609,
     "end_time": "2024-08-03T04:04:04.067434",
     "exception": false,
     "start_time": "2024-08-03T04:04:04.025825",
     "status": "completed"
    },
    "tags": []
   },
   "outputs": [
    {
     "data": {
      "text/plain": [
       "0.0"
      ]
     },
     "execution_count": 31,
     "metadata": {},
     "output_type": "execute_result"
    }
   ],
   "source": [
    "df['class'].isnull().sum()/len(df['class'])"
   ]
  },
  {
   "cell_type": "markdown",
   "id": "d89ad8c0",
   "metadata": {
    "papermill": {
     "duration": 0.028334,
     "end_time": "2024-08-03T04:04:04.124220",
     "exception": false,
     "start_time": "2024-08-03T04:04:04.095886",
     "status": "completed"
    },
    "tags": []
   },
   "source": [
    "### Note \n",
    "- you can perform other categorical variable using uniBivariate Analysis  "
   ]
  },
  {
   "cell_type": "markdown",
   "id": "1cef3b41",
   "metadata": {
    "papermill": {
     "duration": 0.028299,
     "end_time": "2024-08-03T04:04:04.181202",
     "exception": false,
     "start_time": "2024-08-03T04:04:04.152903",
     "status": "completed"
    },
    "tags": []
   },
   "source": [
    "### Bivariate Analysis "
   ]
  },
  {
   "cell_type": "markdown",
   "id": "226c7fb7",
   "metadata": {
    "papermill": {
     "duration": 0.027921,
     "end_time": "2024-08-03T04:04:04.237215",
     "exception": false,
     "start_time": "2024-08-03T04:04:04.209294",
     "status": "completed"
    },
    "tags": []
   },
   "source": [
    "survived vs age "
   ]
  },
  {
   "cell_type": "markdown",
   "id": "eea08751",
   "metadata": {
    "papermill": {
     "duration": 0.027845,
     "end_time": "2024-08-03T04:04:04.293348",
     "exception": false,
     "start_time": "2024-08-03T04:04:04.265503",
     "status": "completed"
    },
    "tags": []
   },
   "source": [
    "**conclusion**\n",
    "- 37% not survived and 62% survived in pclass one \n",
    "- 52% not survived and 47% survived in pclass two\n",
    "- 75% not survived and 24% survived in pclass three"
   ]
  },
  {
   "cell_type": "code",
   "execution_count": 32,
   "id": "1b81c8a1",
   "metadata": {
    "execution": {
     "iopub.execute_input": "2024-08-03T04:04:04.353151Z",
     "iopub.status.busy": "2024-08-03T04:04:04.352703Z",
     "iopub.status.idle": "2024-08-03T04:04:04.380628Z",
     "shell.execute_reply": "2024-08-03T04:04:04.379214Z"
    },
    "papermill": {
     "duration": 0.061133,
     "end_time": "2024-08-03T04:04:04.383526",
     "exception": false,
     "start_time": "2024-08-03T04:04:04.322393",
     "status": "completed"
    },
    "tags": []
   },
   "outputs": [
    {
     "data": {
      "text/html": [
       "<div>\n",
       "<style scoped>\n",
       "    .dataframe tbody tr th:only-of-type {\n",
       "        vertical-align: middle;\n",
       "    }\n",
       "\n",
       "    .dataframe tbody tr th {\n",
       "        vertical-align: top;\n",
       "    }\n",
       "\n",
       "    .dataframe thead th {\n",
       "        text-align: right;\n",
       "    }\n",
       "</style>\n",
       "<table border=\"1\" class=\"dataframe\">\n",
       "  <thead>\n",
       "    <tr style=\"text-align: right;\">\n",
       "      <th>pclass</th>\n",
       "      <th>1</th>\n",
       "      <th>2</th>\n",
       "      <th>3</th>\n",
       "    </tr>\n",
       "    <tr>\n",
       "      <th>survived</th>\n",
       "      <th></th>\n",
       "      <th></th>\n",
       "      <th></th>\n",
       "    </tr>\n",
       "  </thead>\n",
       "  <tbody>\n",
       "    <tr>\n",
       "      <th>0</th>\n",
       "      <td>37.037037</td>\n",
       "      <td>52.717391</td>\n",
       "      <td>75.763747</td>\n",
       "    </tr>\n",
       "    <tr>\n",
       "      <th>1</th>\n",
       "      <td>62.962963</td>\n",
       "      <td>47.282609</td>\n",
       "      <td>24.236253</td>\n",
       "    </tr>\n",
       "  </tbody>\n",
       "</table>\n",
       "</div>"
      ],
      "text/plain": [
       "pclass            1          2          3\n",
       "survived                                 \n",
       "0         37.037037  52.717391  75.763747\n",
       "1         62.962963  47.282609  24.236253"
      ]
     },
     "execution_count": 32,
     "metadata": {},
     "output_type": "execute_result"
    }
   ],
   "source": [
    "pd.crosstab(df['survived'],df['pclass'],normalize='columns')*100"
   ]
  },
  {
   "cell_type": "code",
   "execution_count": 33,
   "id": "b06873e9",
   "metadata": {
    "execution": {
     "iopub.execute_input": "2024-08-03T04:04:04.442710Z",
     "iopub.status.busy": "2024-08-03T04:04:04.442241Z",
     "iopub.status.idle": "2024-08-03T04:04:04.749714Z",
     "shell.execute_reply": "2024-08-03T04:04:04.748486Z"
    },
    "papermill": {
     "duration": 0.340183,
     "end_time": "2024-08-03T04:04:04.752396",
     "exception": false,
     "start_time": "2024-08-03T04:04:04.412213",
     "status": "completed"
    },
    "tags": []
   },
   "outputs": [
    {
     "data": {
      "text/plain": [
       "<Axes: xlabel='pclass', ylabel='survived'>"
      ]
     },
     "execution_count": 33,
     "metadata": {},
     "output_type": "execute_result"
    },
    {
     "data": {
      "image/png": "[encoded data removed]",
      "text/plain": [
       "<Figure size 640x480 with 2 Axes>"
      ]
     },
     "metadata": {},
     "output_type": "display_data"
    }
   ],
   "source": [
    "sns.heatmap(pd.crosstab(df['survived'],df['pclass'],normalize='columns')*100)"
   ]
  },
  {
   "cell_type": "markdown",
   "id": "58d2708f",
   "metadata": {
    "papermill": {
     "duration": 0.029309,
     "end_time": "2024-08-03T04:04:04.810567",
     "exception": false,
     "start_time": "2024-08-03T04:04:04.781258",
     "status": "completed"
    },
    "tags": []
   },
   "source": [
    "survived vs sex \n",
    "\n",
    "**conclusion**\n",
    "- 25% female and 81% male not survived \n",
    "- 74% fremale and 18% male survived"
   ]
  },
  {
   "cell_type": "code",
   "execution_count": 34,
   "id": "6b9830a4",
   "metadata": {
    "execution": {
     "iopub.execute_input": "2024-08-03T04:04:04.870497Z",
     "iopub.status.busy": "2024-08-03T04:04:04.870048Z",
     "iopub.status.idle": "2024-08-03T04:04:04.892662Z",
     "shell.execute_reply": "2024-08-03T04:04:04.891369Z"
    },
    "papermill": {
     "duration": 0.055514,
     "end_time": "2024-08-03T04:04:04.895380",
     "exception": false,
     "start_time": "2024-08-03T04:04:04.839866",
     "status": "completed"
    },
    "tags": []
   },
   "outputs": [
    {
     "data": {
      "text/html": [
       "<div>\n",
       "<style scoped>\n",
       "    .dataframe tbody tr th:only-of-type {\n",
       "        vertical-align: middle;\n",
       "    }\n",
       "\n",
       "    .dataframe tbody tr th {\n",
       "        vertical-align: top;\n",
       "    }\n",
       "\n",
       "    .dataframe thead th {\n",
       "        text-align: right;\n",
       "    }\n",
       "</style>\n",
       "<table border=\"1\" class=\"dataframe\">\n",
       "  <thead>\n",
       "    <tr style=\"text-align: right;\">\n",
       "      <th>sex</th>\n",
       "      <th>female</th>\n",
       "      <th>male</th>\n",
       "    </tr>\n",
       "    <tr>\n",
       "      <th>survived</th>\n",
       "      <th></th>\n",
       "      <th></th>\n",
       "    </tr>\n",
       "  </thead>\n",
       "  <tbody>\n",
       "    <tr>\n",
       "      <th>0</th>\n",
       "      <td>25.796178</td>\n",
       "      <td>81.109185</td>\n",
       "    </tr>\n",
       "    <tr>\n",
       "      <th>1</th>\n",
       "      <td>74.203822</td>\n",
       "      <td>18.890815</td>\n",
       "    </tr>\n",
       "  </tbody>\n",
       "</table>\n",
       "</div>"
      ],
      "text/plain": [
       "sex          female       male\n",
       "survived                      \n",
       "0         25.796178  81.109185\n",
       "1         74.203822  18.890815"
      ]
     },
     "execution_count": 34,
     "metadata": {},
     "output_type": "execute_result"
    }
   ],
   "source": [
    "pd.crosstab(df['survived'],df['sex'],normalize='columns')*100"
   ]
  },
  {
   "cell_type": "markdown",
   "id": "0ad33f70",
   "metadata": {
    "papermill": {
     "duration": 0.03166,
     "end_time": "2024-08-03T04:04:04.956676",
     "exception": false,
     "start_time": "2024-08-03T04:04:04.925016",
     "status": "completed"
    },
    "tags": []
   },
   "source": [
    "survived vs embarked"
   ]
  },
  {
   "cell_type": "code",
   "execution_count": 35,
   "id": "1d6aed3b",
   "metadata": {
    "execution": {
     "iopub.execute_input": "2024-08-03T04:04:05.019073Z",
     "iopub.status.busy": "2024-08-03T04:04:05.018596Z",
     "iopub.status.idle": "2024-08-03T04:04:05.041818Z",
     "shell.execute_reply": "2024-08-03T04:04:05.040473Z"
    },
    "papermill": {
     "duration": 0.057437,
     "end_time": "2024-08-03T04:04:05.044629",
     "exception": false,
     "start_time": "2024-08-03T04:04:04.987192",
     "status": "completed"
    },
    "tags": []
   },
   "outputs": [
    {
     "data": {
      "text/html": [
       "<div>\n",
       "<style scoped>\n",
       "    .dataframe tbody tr th:only-of-type {\n",
       "        vertical-align: middle;\n",
       "    }\n",
       "\n",
       "    .dataframe tbody tr th {\n",
       "        vertical-align: top;\n",
       "    }\n",
       "\n",
       "    .dataframe thead th {\n",
       "        text-align: right;\n",
       "    }\n",
       "</style>\n",
       "<table border=\"1\" class=\"dataframe\">\n",
       "  <thead>\n",
       "    <tr style=\"text-align: right;\">\n",
       "      <th>embarked</th>\n",
       "      <th>C</th>\n",
       "      <th>Q</th>\n",
       "      <th>S</th>\n",
       "    </tr>\n",
       "    <tr>\n",
       "      <th>survived</th>\n",
       "      <th></th>\n",
       "      <th></th>\n",
       "      <th></th>\n",
       "    </tr>\n",
       "  </thead>\n",
       "  <tbody>\n",
       "    <tr>\n",
       "      <th>0</th>\n",
       "      <td>44.642857</td>\n",
       "      <td>61.038961</td>\n",
       "      <td>66.304348</td>\n",
       "    </tr>\n",
       "    <tr>\n",
       "      <th>1</th>\n",
       "      <td>55.357143</td>\n",
       "      <td>38.961039</td>\n",
       "      <td>33.695652</td>\n",
       "    </tr>\n",
       "  </tbody>\n",
       "</table>\n",
       "</div>"
      ],
      "text/plain": [
       "embarked          C          Q          S\n",
       "survived                                 \n",
       "0         44.642857  61.038961  66.304348\n",
       "1         55.357143  38.961039  33.695652"
      ]
     },
     "execution_count": 35,
     "metadata": {},
     "output_type": "execute_result"
    }
   ],
   "source": [
    "pd.crosstab(df['survived'],df['embarked'],normalize='columns')*100"
   ]
  },
  {
   "cell_type": "markdown",
   "id": "9981434d",
   "metadata": {
    "papermill": {
     "duration": 0.029164,
     "end_time": "2024-08-03T04:04:05.103434",
     "exception": false,
     "start_time": "2024-08-03T04:04:05.074270",
     "status": "completed"
    },
    "tags": []
   },
   "source": [
    "This is reasone why `Cherbourg` survived becuase `50%` people in pclass one"
   ]
  },
  {
   "cell_type": "code",
   "execution_count": 36,
   "id": "f9e4b958",
   "metadata": {
    "execution": {
     "iopub.execute_input": "2024-08-03T04:04:05.164437Z",
     "iopub.status.busy": "2024-08-03T04:04:05.163966Z",
     "iopub.status.idle": "2024-08-03T04:04:05.186966Z",
     "shell.execute_reply": "2024-08-03T04:04:05.185688Z"
    },
    "papermill": {
     "duration": 0.057299,
     "end_time": "2024-08-03T04:04:05.189924",
     "exception": false,
     "start_time": "2024-08-03T04:04:05.132625",
     "status": "completed"
    },
    "tags": []
   },
   "outputs": [
    {
     "data": {
      "text/html": [
       "<div>\n",
       "<style scoped>\n",
       "    .dataframe tbody tr th:only-of-type {\n",
       "        vertical-align: middle;\n",
       "    }\n",
       "\n",
       "    .dataframe tbody tr th {\n",
       "        vertical-align: top;\n",
       "    }\n",
       "\n",
       "    .dataframe thead th {\n",
       "        text-align: right;\n",
       "    }\n",
       "</style>\n",
       "<table border=\"1\" class=\"dataframe\">\n",
       "  <thead>\n",
       "    <tr style=\"text-align: right;\">\n",
       "      <th>embarked</th>\n",
       "      <th>C</th>\n",
       "      <th>Q</th>\n",
       "      <th>S</th>\n",
       "    </tr>\n",
       "    <tr>\n",
       "      <th>pclass</th>\n",
       "      <th></th>\n",
       "      <th></th>\n",
       "      <th></th>\n",
       "    </tr>\n",
       "  </thead>\n",
       "  <tbody>\n",
       "    <tr>\n",
       "      <th>1</th>\n",
       "      <td>50.595238</td>\n",
       "      <td>2.597403</td>\n",
       "      <td>19.720497</td>\n",
       "    </tr>\n",
       "    <tr>\n",
       "      <th>2</th>\n",
       "      <td>10.119048</td>\n",
       "      <td>3.896104</td>\n",
       "      <td>25.465839</td>\n",
       "    </tr>\n",
       "    <tr>\n",
       "      <th>3</th>\n",
       "      <td>39.285714</td>\n",
       "      <td>93.506494</td>\n",
       "      <td>54.813665</td>\n",
       "    </tr>\n",
       "  </tbody>\n",
       "</table>\n",
       "</div>"
      ],
      "text/plain": [
       "embarked          C          Q          S\n",
       "pclass                                   \n",
       "1         50.595238   2.597403  19.720497\n",
       "2         10.119048   3.896104  25.465839\n",
       "3         39.285714  93.506494  54.813665"
      ]
     },
     "execution_count": 36,
     "metadata": {},
     "output_type": "execute_result"
    }
   ],
   "source": [
    "pd.crosstab(df['pclass'],df['embarked'],normalize='columns')*100"
   ]
  },
  {
   "cell_type": "markdown",
   "id": "320d3915",
   "metadata": {
    "papermill": {
     "duration": 0.030045,
     "end_time": "2024-08-03T04:04:05.250122",
     "exception": false,
     "start_time": "2024-08-03T04:04:05.220077",
     "status": "completed"
    },
    "tags": []
   },
   "source": [
    "survived vs age "
   ]
  },
  {
   "cell_type": "code",
   "execution_count": 37,
   "id": "0c475bd4",
   "metadata": {
    "execution": {
     "iopub.execute_input": "2024-08-03T04:04:05.312196Z",
     "iopub.status.busy": "2024-08-03T04:04:05.311773Z",
     "iopub.status.idle": "2024-08-03T04:04:05.656602Z",
     "shell.execute_reply": "2024-08-03T04:04:05.655467Z"
    },
    "papermill": {
     "duration": 0.379488,
     "end_time": "2024-08-03T04:04:05.659175",
     "exception": false,
     "start_time": "2024-08-03T04:04:05.279687",
     "status": "completed"
    },
    "tags": []
   },
   "outputs": [
    {
     "data": {
      "image/png": "[encoded data removed]",
      "text/plain": [
       "<Figure size 640x480 with 1 Axes>"
      ]
     },
     "metadata": {},
     "output_type": "display_data"
    }
   ],
   "source": [
    "df[df['survived'] == 1]['age'].plot(kind='hist',label='Survived')\n",
    "df[df['survived'] == 0]['age'].plot(kind='hist',label='Not Survived')\n",
    "\n",
    "plt.legend()\n",
    "plt.show()"
   ]
  },
  {
   "cell_type": "markdown",
   "id": "1f10846c",
   "metadata": {
    "papermill": {
     "duration": 0.029524,
     "end_time": "2024-08-03T04:04:05.718574",
     "exception": false,
     "start_time": "2024-08-03T04:04:05.689050",
     "status": "completed"
    },
    "tags": []
   },
   "source": [
    "### Feature Enginring"
   ]
  },
  {
   "cell_type": "code",
   "execution_count": 38,
   "id": "e04dbd0a",
   "metadata": {
    "execution": {
     "iopub.execute_input": "2024-08-03T04:04:05.782133Z",
     "iopub.status.busy": "2024-08-03T04:04:05.781020Z",
     "iopub.status.idle": "2024-08-03T04:04:05.790268Z",
     "shell.execute_reply": "2024-08-03T04:04:05.789151Z"
    },
    "papermill": {
     "duration": 0.043896,
     "end_time": "2024-08-03T04:04:05.792770",
     "exception": false,
     "start_time": "2024-08-03T04:04:05.748874",
     "status": "completed"
    },
    "tags": []
   },
   "outputs": [
    {
     "data": {
      "text/plain": [
       "sibsp\n",
       "0    608\n",
       "1    209\n",
       "2     28\n",
       "4     18\n",
       "3     16\n",
       "8      7\n",
       "5      5\n",
       "Name: count, dtype: int64"
      ]
     },
     "execution_count": 38,
     "metadata": {},
     "output_type": "execute_result"
    }
   ],
   "source": [
    "df['sibsp'].value_counts()"
   ]
  },
  {
   "cell_type": "code",
   "execution_count": 39,
   "id": "5f223280",
   "metadata": {
    "execution": {
     "iopub.execute_input": "2024-08-03T04:04:05.854560Z",
     "iopub.status.busy": "2024-08-03T04:04:05.854132Z",
     "iopub.status.idle": "2024-08-03T04:04:05.876622Z",
     "shell.execute_reply": "2024-08-03T04:04:05.875358Z"
    },
    "papermill": {
     "duration": 0.056235,
     "end_time": "2024-08-03T04:04:05.879022",
     "exception": false,
     "start_time": "2024-08-03T04:04:05.822787",
     "status": "completed"
    },
    "tags": []
   },
   "outputs": [
    {
     "data": {
      "text/html": [
       "<div>\n",
       "<style scoped>\n",
       "    .dataframe tbody tr th:only-of-type {\n",
       "        vertical-align: middle;\n",
       "    }\n",
       "\n",
       "    .dataframe tbody tr th {\n",
       "        vertical-align: top;\n",
       "    }\n",
       "\n",
       "    .dataframe thead th {\n",
       "        text-align: right;\n",
       "    }\n",
       "</style>\n",
       "<table border=\"1\" class=\"dataframe\">\n",
       "  <thead>\n",
       "    <tr style=\"text-align: right;\">\n",
       "      <th></th>\n",
       "      <th>survived</th>\n",
       "      <th>pclass</th>\n",
       "      <th>sex</th>\n",
       "      <th>age</th>\n",
       "      <th>sibsp</th>\n",
       "      <th>parch</th>\n",
       "      <th>fare</th>\n",
       "      <th>embarked</th>\n",
       "      <th>class</th>\n",
       "      <th>who</th>\n",
       "      <th>adult_male</th>\n",
       "      <th>deck</th>\n",
       "      <th>embark_town</th>\n",
       "      <th>alive</th>\n",
       "      <th>alone</th>\n",
       "    </tr>\n",
       "  </thead>\n",
       "  <tbody>\n",
       "    <tr>\n",
       "      <th>159</th>\n",
       "      <td>0</td>\n",
       "      <td>3</td>\n",
       "      <td>male</td>\n",
       "      <td>NaN</td>\n",
       "      <td>8</td>\n",
       "      <td>2</td>\n",
       "      <td>69.55</td>\n",
       "      <td>S</td>\n",
       "      <td>Third</td>\n",
       "      <td>man</td>\n",
       "      <td>True</td>\n",
       "      <td>NaN</td>\n",
       "      <td>Southampton</td>\n",
       "      <td>no</td>\n",
       "      <td>False</td>\n",
       "    </tr>\n",
       "    <tr>\n",
       "      <th>180</th>\n",
       "      <td>0</td>\n",
       "      <td>3</td>\n",
       "      <td>female</td>\n",
       "      <td>NaN</td>\n",
       "      <td>8</td>\n",
       "      <td>2</td>\n",
       "      <td>69.55</td>\n",
       "      <td>S</td>\n",
       "      <td>Third</td>\n",
       "      <td>woman</td>\n",
       "      <td>False</td>\n",
       "      <td>NaN</td>\n",
       "      <td>Southampton</td>\n",
       "      <td>no</td>\n",
       "      <td>False</td>\n",
       "    </tr>\n",
       "    <tr>\n",
       "      <th>201</th>\n",
       "      <td>0</td>\n",
       "      <td>3</td>\n",
       "      <td>male</td>\n",
       "      <td>NaN</td>\n",
       "      <td>8</td>\n",
       "      <td>2</td>\n",
       "      <td>69.55</td>\n",
       "      <td>S</td>\n",
       "      <td>Third</td>\n",
       "      <td>man</td>\n",
       "      <td>True</td>\n",
       "      <td>NaN</td>\n",
       "      <td>Southampton</td>\n",
       "      <td>no</td>\n",
       "      <td>False</td>\n",
       "    </tr>\n",
       "    <tr>\n",
       "      <th>324</th>\n",
       "      <td>0</td>\n",
       "      <td>3</td>\n",
       "      <td>male</td>\n",
       "      <td>NaN</td>\n",
       "      <td>8</td>\n",
       "      <td>2</td>\n",
       "      <td>69.55</td>\n",
       "      <td>S</td>\n",
       "      <td>Third</td>\n",
       "      <td>man</td>\n",
       "      <td>True</td>\n",
       "      <td>NaN</td>\n",
       "      <td>Southampton</td>\n",
       "      <td>no</td>\n",
       "      <td>False</td>\n",
       "    </tr>\n",
       "    <tr>\n",
       "      <th>792</th>\n",
       "      <td>0</td>\n",
       "      <td>3</td>\n",
       "      <td>female</td>\n",
       "      <td>NaN</td>\n",
       "      <td>8</td>\n",
       "      <td>2</td>\n",
       "      <td>69.55</td>\n",
       "      <td>S</td>\n",
       "      <td>Third</td>\n",
       "      <td>woman</td>\n",
       "      <td>False</td>\n",
       "      <td>NaN</td>\n",
       "      <td>Southampton</td>\n",
       "      <td>no</td>\n",
       "      <td>False</td>\n",
       "    </tr>\n",
       "    <tr>\n",
       "      <th>846</th>\n",
       "      <td>0</td>\n",
       "      <td>3</td>\n",
       "      <td>male</td>\n",
       "      <td>NaN</td>\n",
       "      <td>8</td>\n",
       "      <td>2</td>\n",
       "      <td>69.55</td>\n",
       "      <td>S</td>\n",
       "      <td>Third</td>\n",
       "      <td>man</td>\n",
       "      <td>True</td>\n",
       "      <td>NaN</td>\n",
       "      <td>Southampton</td>\n",
       "      <td>no</td>\n",
       "      <td>False</td>\n",
       "    </tr>\n",
       "    <tr>\n",
       "      <th>863</th>\n",
       "      <td>0</td>\n",
       "      <td>3</td>\n",
       "      <td>female</td>\n",
       "      <td>NaN</td>\n",
       "      <td>8</td>\n",
       "      <td>2</td>\n",
       "      <td>69.55</td>\n",
       "      <td>S</td>\n",
       "      <td>Third</td>\n",
       "      <td>woman</td>\n",
       "      <td>False</td>\n",
       "      <td>NaN</td>\n",
       "      <td>Southampton</td>\n",
       "      <td>no</td>\n",
       "      <td>False</td>\n",
       "    </tr>\n",
       "  </tbody>\n",
       "</table>\n",
       "</div>"
      ],
      "text/plain": [
       "     survived  pclass     sex  age  sibsp  parch   fare embarked  class  \\\n",
       "159         0       3    male  NaN      8      2  69.55        S  Third   \n",
       "180         0       3  female  NaN      8      2  69.55        S  Third   \n",
       "201         0       3    male  NaN      8      2  69.55        S  Third   \n",
       "324         0       3    male  NaN      8      2  69.55        S  Third   \n",
       "792         0       3  female  NaN      8      2  69.55        S  Third   \n",
       "846         0       3    male  NaN      8      2  69.55        S  Third   \n",
       "863         0       3  female  NaN      8      2  69.55        S  Third   \n",
       "\n",
       "       who  adult_male deck  embark_town alive  alone  \n",
       "159    man        True  NaN  Southampton    no  False  \n",
       "180  woman       False  NaN  Southampton    no  False  \n",
       "201    man        True  NaN  Southampton    no  False  \n",
       "324    man        True  NaN  Southampton    no  False  \n",
       "792  woman       False  NaN  Southampton    no  False  \n",
       "846    man        True  NaN  Southampton    no  False  \n",
       "863  woman       False  NaN  Southampton    no  False  "
      ]
     },
     "execution_count": 39,
     "metadata": {},
     "output_type": "execute_result"
    }
   ],
   "source": [
    "df[df['sibsp']==8]"
   ]
  },
  {
   "cell_type": "code",
   "execution_count": 40,
   "id": "c1421fa5",
   "metadata": {
    "execution": {
     "iopub.execute_input": "2024-08-03T04:04:05.941934Z",
     "iopub.status.busy": "2024-08-03T04:04:05.941504Z",
     "iopub.status.idle": "2024-08-03T04:04:05.949255Z",
     "shell.execute_reply": "2024-08-03T04:04:05.947768Z"
    },
    "papermill": {
     "duration": 0.042452,
     "end_time": "2024-08-03T04:04:05.951882",
     "exception": false,
     "start_time": "2024-08-03T04:04:05.909430",
     "status": "completed"
    },
    "tags": []
   },
   "outputs": [],
   "source": [
    "df['individual_fare'] = df['fare']/(df['sibsp'] + df['parch'] + 1)"
   ]
  },
  {
   "cell_type": "code",
   "execution_count": 41,
   "id": "d1b71a64",
   "metadata": {
    "execution": {
     "iopub.execute_input": "2024-08-03T04:04:06.015208Z",
     "iopub.status.busy": "2024-08-03T04:04:06.013913Z",
     "iopub.status.idle": "2024-08-03T04:04:06.024777Z",
     "shell.execute_reply": "2024-08-03T04:04:06.023327Z"
    },
    "papermill": {
     "duration": 0.045384,
     "end_time": "2024-08-03T04:04:06.027456",
     "exception": false,
     "start_time": "2024-08-03T04:04:05.982072",
     "status": "completed"
    },
    "tags": []
   },
   "outputs": [
    {
     "data": {
      "text/plain": [
       "0       3.62500\n",
       "1      35.64165\n",
       "2       7.92500\n",
       "3      26.55000\n",
       "4       8.05000\n",
       "         ...   \n",
       "886    13.00000\n",
       "887    30.00000\n",
       "888     5.86250\n",
       "889    30.00000\n",
       "890     7.75000\n",
       "Name: individual_fare, Length: 891, dtype: float64"
      ]
     },
     "execution_count": 41,
     "metadata": {},
     "output_type": "execute_result"
    }
   ],
   "source": [
    "df['individual_fare']"
   ]
  },
  {
   "cell_type": "code",
   "execution_count": 42,
   "id": "b9fc094a",
   "metadata": {
    "execution": {
     "iopub.execute_input": "2024-08-03T04:04:06.091907Z",
     "iopub.status.busy": "2024-08-03T04:04:06.091337Z",
     "iopub.status.idle": "2024-08-03T04:04:06.101308Z",
     "shell.execute_reply": "2024-08-03T04:04:06.100101Z"
    },
    "papermill": {
     "duration": 0.044635,
     "end_time": "2024-08-03T04:04:06.103724",
     "exception": false,
     "start_time": "2024-08-03T04:04:06.059089",
     "status": "completed"
    },
    "tags": []
   },
   "outputs": [],
   "source": [
    "df['family']=df['sibsp']+df['parch']+1\n",
    "\n",
    "def transform_family_size(num):\n",
    "\n",
    "  if num == 1:\n",
    "    return 'alone'\n",
    "  elif num>1 and num <5:\n",
    "    return \"small\"\n",
    "  else:\n",
    "    return \"large\"\n",
    "df['family_type'] = df['family'].apply(transform_family_size)"
   ]
  },
  {
   "cell_type": "code",
   "execution_count": 43,
   "id": "9d3addde",
   "metadata": {
    "execution": {
     "iopub.execute_input": "2024-08-03T04:04:06.166705Z",
     "iopub.status.busy": "2024-08-03T04:04:06.166142Z",
     "iopub.status.idle": "2024-08-03T04:04:06.189471Z",
     "shell.execute_reply": "2024-08-03T04:04:06.188312Z"
    },
    "papermill": {
     "duration": 0.057742,
     "end_time": "2024-08-03T04:04:06.192211",
     "exception": false,
     "start_time": "2024-08-03T04:04:06.134469",
     "status": "completed"
    },
    "tags": []
   },
   "outputs": [
    {
     "data": {
      "text/html": [
       "<div>\n",
       "<style scoped>\n",
       "    .dataframe tbody tr th:only-of-type {\n",
       "        vertical-align: middle;\n",
       "    }\n",
       "\n",
       "    .dataframe tbody tr th {\n",
       "        vertical-align: top;\n",
       "    }\n",
       "\n",
       "    .dataframe thead th {\n",
       "        text-align: right;\n",
       "    }\n",
       "</style>\n",
       "<table border=\"1\" class=\"dataframe\">\n",
       "  <thead>\n",
       "    <tr style=\"text-align: right;\">\n",
       "      <th></th>\n",
       "      <th>survived</th>\n",
       "      <th>pclass</th>\n",
       "      <th>sex</th>\n",
       "      <th>age</th>\n",
       "      <th>sibsp</th>\n",
       "      <th>parch</th>\n",
       "      <th>fare</th>\n",
       "      <th>embarked</th>\n",
       "      <th>class</th>\n",
       "      <th>who</th>\n",
       "      <th>adult_male</th>\n",
       "      <th>deck</th>\n",
       "      <th>embark_town</th>\n",
       "      <th>alive</th>\n",
       "      <th>alone</th>\n",
       "      <th>individual_fare</th>\n",
       "      <th>family</th>\n",
       "      <th>family_type</th>\n",
       "    </tr>\n",
       "  </thead>\n",
       "  <tbody>\n",
       "    <tr>\n",
       "      <th>0</th>\n",
       "      <td>0</td>\n",
       "      <td>3</td>\n",
       "      <td>male</td>\n",
       "      <td>22.0</td>\n",
       "      <td>1</td>\n",
       "      <td>0</td>\n",
       "      <td>7.2500</td>\n",
       "      <td>S</td>\n",
       "      <td>Third</td>\n",
       "      <td>man</td>\n",
       "      <td>True</td>\n",
       "      <td>NaN</td>\n",
       "      <td>Southampton</td>\n",
       "      <td>no</td>\n",
       "      <td>False</td>\n",
       "      <td>3.62500</td>\n",
       "      <td>2</td>\n",
       "      <td>small</td>\n",
       "    </tr>\n",
       "    <tr>\n",
       "      <th>1</th>\n",
       "      <td>1</td>\n",
       "      <td>1</td>\n",
       "      <td>female</td>\n",
       "      <td>38.0</td>\n",
       "      <td>1</td>\n",
       "      <td>0</td>\n",
       "      <td>71.2833</td>\n",
       "      <td>C</td>\n",
       "      <td>First</td>\n",
       "      <td>woman</td>\n",
       "      <td>False</td>\n",
       "      <td>C</td>\n",
       "      <td>Cherbourg</td>\n",
       "      <td>yes</td>\n",
       "      <td>False</td>\n",
       "      <td>35.64165</td>\n",
       "      <td>2</td>\n",
       "      <td>small</td>\n",
       "    </tr>\n",
       "    <tr>\n",
       "      <th>2</th>\n",
       "      <td>1</td>\n",
       "      <td>3</td>\n",
       "      <td>female</td>\n",
       "      <td>26.0</td>\n",
       "      <td>0</td>\n",
       "      <td>0</td>\n",
       "      <td>7.9250</td>\n",
       "      <td>S</td>\n",
       "      <td>Third</td>\n",
       "      <td>woman</td>\n",
       "      <td>False</td>\n",
       "      <td>NaN</td>\n",
       "      <td>Southampton</td>\n",
       "      <td>yes</td>\n",
       "      <td>True</td>\n",
       "      <td>7.92500</td>\n",
       "      <td>1</td>\n",
       "      <td>alone</td>\n",
       "    </tr>\n",
       "    <tr>\n",
       "      <th>3</th>\n",
       "      <td>1</td>\n",
       "      <td>1</td>\n",
       "      <td>female</td>\n",
       "      <td>35.0</td>\n",
       "      <td>1</td>\n",
       "      <td>0</td>\n",
       "      <td>53.1000</td>\n",
       "      <td>S</td>\n",
       "      <td>First</td>\n",
       "      <td>woman</td>\n",
       "      <td>False</td>\n",
       "      <td>C</td>\n",
       "      <td>Southampton</td>\n",
       "      <td>yes</td>\n",
       "      <td>False</td>\n",
       "      <td>26.55000</td>\n",
       "      <td>2</td>\n",
       "      <td>small</td>\n",
       "    </tr>\n",
       "    <tr>\n",
       "      <th>4</th>\n",
       "      <td>0</td>\n",
       "      <td>3</td>\n",
       "      <td>male</td>\n",
       "      <td>35.0</td>\n",
       "      <td>0</td>\n",
       "      <td>0</td>\n",
       "      <td>8.0500</td>\n",
       "      <td>S</td>\n",
       "      <td>Third</td>\n",
       "      <td>man</td>\n",
       "      <td>True</td>\n",
       "      <td>NaN</td>\n",
       "      <td>Southampton</td>\n",
       "      <td>no</td>\n",
       "      <td>True</td>\n",
       "      <td>8.05000</td>\n",
       "      <td>1</td>\n",
       "      <td>alone</td>\n",
       "    </tr>\n",
       "  </tbody>\n",
       "</table>\n",
       "</div>"
      ],
      "text/plain": [
       "   survived  pclass     sex   age  sibsp  parch     fare embarked  class  \\\n",
       "0         0       3    male  22.0      1      0   7.2500        S  Third   \n",
       "1         1       1  female  38.0      1      0  71.2833        C  First   \n",
       "2         1       3  female  26.0      0      0   7.9250        S  Third   \n",
       "3         1       1  female  35.0      1      0  53.1000        S  First   \n",
       "4         0       3    male  35.0      0      0   8.0500        S  Third   \n",
       "\n",
       "     who  adult_male deck  embark_town alive  alone  individual_fare  family  \\\n",
       "0    man        True  NaN  Southampton    no  False          3.62500       2   \n",
       "1  woman       False    C    Cherbourg   yes  False         35.64165       2   \n",
       "2  woman       False  NaN  Southampton   yes   True          7.92500       1   \n",
       "3  woman       False    C  Southampton   yes  False         26.55000       2   \n",
       "4    man        True  NaN  Southampton    no   True          8.05000       1   \n",
       "\n",
       "  family_type  \n",
       "0       small  \n",
       "1       small  \n",
       "2       alone  \n",
       "3       small  \n",
       "4       alone  "
      ]
     },
     "execution_count": 43,
     "metadata": {},
     "output_type": "execute_result"
    }
   ],
   "source": [
    "df.head()"
   ]
  },
  {
   "cell_type": "code",
   "execution_count": 44,
   "id": "ec306f91",
   "metadata": {
    "execution": {
     "iopub.execute_input": "2024-08-03T04:04:06.256552Z",
     "iopub.status.busy": "2024-08-03T04:04:06.256069Z",
     "iopub.status.idle": "2024-08-03T04:04:06.264290Z",
     "shell.execute_reply": "2024-08-03T04:04:06.262958Z"
    },
    "papermill": {
     "duration": 0.043414,
     "end_time": "2024-08-03T04:04:06.266925",
     "exception": false,
     "start_time": "2024-08-03T04:04:06.223511",
     "status": "completed"
    },
    "tags": []
   },
   "outputs": [
    {
     "data": {
      "text/plain": [
       "Index(['survived', 'pclass', 'sex', 'age', 'sibsp', 'parch', 'fare',\n",
       "       'embarked', 'class', 'who', 'adult_male', 'deck', 'embark_town',\n",
       "       'alive', 'alone', 'individual_fare', 'family', 'family_type'],\n",
       "      dtype='object')"
      ]
     },
     "execution_count": 44,
     "metadata": {},
     "output_type": "execute_result"
    }
   ],
   "source": [
    "df.columns"
   ]
  },
  {
   "cell_type": "code",
   "execution_count": null,
   "id": "9f86cc5a",
   "metadata": {
    "papermill": {
     "duration": 0.031466,
     "end_time": "2024-08-03T04:04:06.331162",
     "exception": false,
     "start_time": "2024-08-03T04:04:06.299696",
     "status": "completed"
    },
    "tags": []
   },
   "outputs": [],
   "source": []
  }
 ],
 "metadata": {
  "kaggle": {
   "accelerator": "none",
   "dataSources": [],
   "dockerImageVersionId": 30746,
   "isGpuEnabled": false,
   "isInternetEnabled": true,
   "language": "python",
   "sourceType": "notebook"
  },
  "kernelspec": {
   "display_name": "Python 3",
   "language": "python",
   "name": "python3"
  },
  "language_info": {
   "codemirror_mode": {
    "name": "ipython",
    "version": 3
   },
   "file_extension": ".py",
   "mimetype": "text/x-python",
   "name": "python",
   "nbconvert_exporter": "python",
   "pygments_lexer": "ipython3",
   "version": "3.10.13"
  },
  "papermill": {
   "default_parameters": {},
   "duration": 14.685989,
   "end_time": "2024-08-03T04:04:06.985917",
   "environment_variables": {},
   "exception": null,
   "input_path": "__notebook__.ipynb",
   "output_path": "__notebook__.ipynb",
   "parameters": {},
   "start_time": "2024-08-03T04:03:52.299928",
   "version": "2.5.0"
  }
 },
 "nbformat": 4,
 "nbformat_minor": 5
}
